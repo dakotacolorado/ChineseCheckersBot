{
 "cells": [
  {
   "cell_type": "code",
   "id": "initial_id",
   "metadata": {
    "collapsed": true,
    "ExecuteTime": {
     "end_time": "2024-11-04T07:30:12.873333Z",
     "start_time": "2024-11-04T07:30:10.834110Z"
    }
   },
   "source": [
    "from typing import List\n",
    "\n",
    "from tqdm import tqdm\n",
    "\n",
    "from chinese_checkers.reinforcement.experience import Experience, ExperienceMetadata, ExperienceCatalog\n",
    "from chinese_checkers.simulation import SimulationCatalog, SimulationMetadata, SimulationData"
   ],
   "outputs": [],
   "execution_count": 1
  },
  {
   "metadata": {
    "ExecuteTime": {
     "end_time": "2024-11-04T07:30:12.890346Z",
     "start_time": "2024-11-04T07:30:12.880337Z"
    }
   },
   "cell_type": "code",
   "source": [
    "sim_catalog = SimulationCatalog()\n",
    "sim_metadata: List[SimulationMetadata] = sim_catalog.list_datasets()\n",
    "sim_metadata"
   ],
   "id": "5292b10bb2a4fc17",
   "outputs": [
    {
     "data": {
      "text/plain": [
       "[SimulationMetadata(player_count=2, board_size=4, max_game_length=1000, winning_player='0', name='bootstrap-simulation', version='v0.0.1'),\n",
       " SimulationMetadata(player_count=2, board_size=4, max_game_length=1000, winning_player='3', name='bootstrap-simulation', version='v0.0.1')]"
      ]
     },
     "execution_count": 2,
     "metadata": {},
     "output_type": "execute_result"
    }
   ],
   "execution_count": 2
  },
  {
   "metadata": {
    "ExecuteTime": {
     "end_time": "2024-11-04T07:30:20.168945Z",
     "start_time": "2024-11-04T07:30:17.383670Z"
    }
   },
   "cell_type": "code",
   "source": [
    "winning_players = [\"0\",\"3\"] \n",
    "player_count = 2\n",
    "\n",
    "simulations: List[SimulationData] = [\n",
    "    dataset\n",
    "    for metadata in sim_metadata\n",
    "    if metadata.winning_player in winning_players\n",
    "        and metadata.player_count == player_count\n",
    "    for dataset in sim_catalog.load_dataset(metadata)\n",
    "]\n",
    "print(f\"Found {len(simulations)} datasets for winning_players: {winning_players} and player_count: {player_count}.\")"
   ],
   "id": "d89559c0773e00aa",
   "outputs": [
    {
     "name": "stdout",
     "output_type": "stream",
     "text": [
      "Found 1704 datasets for winning_players: ['0', '3'] and player_count: 2.\n"
     ]
    }
   ],
   "execution_count": 4
  },
  {
   "metadata": {
    "ExecuteTime": {
     "end_time": "2024-11-04T07:30:15.820822Z",
     "start_time": "2024-11-04T07:28:29.343473Z"
    }
   },
   "cell_type": "code",
   "source": [
    "experiences: List[Experience] = [\n",
    "    experience\n",
    "    for simulation in tqdm(simulations[:2], desc=\"Generating experiences\")\n",
    "    for experience in Experience.generate_experiences_from_simulation(\n",
    "        simulation,\n",
    "        ExperienceMetadata.from_simulation_metadata(\n",
    "            simulation.metadata, \n",
    "            generator_name=\"v0.0.1\"\n",
    "        )\n",
    "    )\n",
    "]\n",
    "print(f\"Generated {len(experiences)} experiences.\")"
   ],
   "id": "801d4a9415685cce",
   "outputs": [
    {
     "name": "stderr",
     "output_type": "stream",
     "text": [
      "Generating experiences: 0it [00:00, ?it/s]"
     ]
    },
    {
     "name": "stdout",
     "output_type": "stream",
     "text": [
      "Generated 0 experiences.\n"
     ]
    },
    {
     "name": "stderr",
     "output_type": "stream",
     "text": [
      "\n"
     ]
    }
   ],
   "execution_count": 4
  },
  {
   "metadata": {
    "ExecuteTime": {
     "end_time": "2024-11-04T07:30:15.821822300Z",
     "start_time": "2024-11-04T07:28:29.517649Z"
    }
   },
   "cell_type": "code",
   "source": "experiences[0]",
   "id": "c6980c8da0521ca5",
   "outputs": [
    {
     "ename": "IndexError",
     "evalue": "list index out of range",
     "output_type": "error",
     "traceback": [
      "\u001B[1;31m---------------------------------------------------------------------------\u001B[0m",
      "\u001B[1;31mIndexError\u001B[0m                                Traceback (most recent call last)",
      "Cell \u001B[1;32mIn[5], line 1\u001B[0m\n\u001B[1;32m----> 1\u001B[0m \u001B[43mexperiences\u001B[49m\u001B[43m[\u001B[49m\u001B[38;5;241;43m0\u001B[39;49m\u001B[43m]\u001B[49m\n",
      "\u001B[1;31mIndexError\u001B[0m: list index out of range"
     ]
    }
   ],
   "execution_count": 5
  },
  {
   "metadata": {
    "ExecuteTime": {
     "end_time": "2024-11-04T07:30:22.291555Z",
     "start_time": "2024-11-04T07:30:22.287881Z"
    }
   },
   "cell_type": "code",
   "source": "exp_catalog = ExperienceCatalog()",
   "id": "bb806450d7d58e06",
   "outputs": [],
   "execution_count": 5
  },
  {
   "metadata": {},
   "cell_type": "code",
   "source": "exp_catalog.add_record_list(experiences)",
   "id": "8fcedaf88148e4dc",
   "outputs": [],
   "execution_count": null
  },
  {
   "metadata": {
    "ExecuteTime": {
     "end_time": "2024-11-04T07:30:23.101Z",
     "start_time": "2024-11-04T07:30:23.093336Z"
    }
   },
   "cell_type": "code",
   "source": [
    "exp_metadata: List[ExperienceMetadata] = exp_catalog.list_datasets()\n",
    "exp_metadata"
   ],
   "id": "269ffb134ed8f8f8",
   "outputs": [
    {
     "data": {
      "text/plain": [
       "[ExperienceMetadata(player_count='2', board_size='4', max_game_length='1000', winning_player='0', name='bootstrap-simulation', version='v0.0.1', generator_name='v0.0.1')]"
      ]
     },
     "execution_count": 6,
     "metadata": {},
     "output_type": "execute_result"
    }
   ],
   "execution_count": 6
  },
  {
   "metadata": {
    "ExecuteTime": {
     "end_time": "2024-11-04T07:30:36.099378Z",
     "start_time": "2024-11-04T07:30:34.256844Z"
    }
   },
   "cell_type": "code",
   "source": [
    "experiences: List[Experience] = [\n",
    "    dataset\n",
    "    for metadata in exp_metadata\n",
    "    if metadata.winning_player in winning_players\n",
    "        and metadata.player_count == str(player_count)\n",
    "    for dataset in exp_catalog.load_dataset(metadata)\n",
    "]\n",
    "print(f\"Found {len(experiences)} datasets for winning_players: {winning_players} and player_count: {player_count}.\")"
   ],
   "id": "e1035db6a7a5df54",
   "outputs": [
    {
     "name": "stdout",
     "output_type": "stream",
     "text": [
      "Found 3026 datasets for winning_players: ['0', '3'] and player_count: 2.\n"
     ]
    }
   ],
   "execution_count": 8
  },
  {
   "metadata": {},
   "cell_type": "code",
   "source": "",
   "id": "8dda669efa9c39df",
   "outputs": [],
   "execution_count": null
  }
 ],
 "metadata": {
  "kernelspec": {
   "display_name": "Python 3",
   "language": "python",
   "name": "python3"
  },
  "language_info": {
   "codemirror_mode": {
    "name": "ipython",
    "version": 2
   },
   "file_extension": ".py",
   "mimetype": "text/x-python",
   "name": "python",
   "nbconvert_exporter": "python",
   "pygments_lexer": "ipython2",
   "version": "2.7.6"
  }
 },
 "nbformat": 4,
 "nbformat_minor": 5
}
