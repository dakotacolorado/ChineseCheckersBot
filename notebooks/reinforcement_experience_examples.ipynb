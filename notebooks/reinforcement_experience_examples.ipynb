{
 "cells": [
  {
   "cell_type": "code",
   "execution_count": 1,
   "id": "initial_id",
   "metadata": {
    "ExecuteTime": {
     "end_time": "2024-11-04T08:40:22.680470Z",
     "start_time": "2024-11-04T08:40:22.677182Z"
    }
   },
   "outputs": [],
   "source": [
    "from typing import List\n",
    "import random\n",
    "\n",
    "\n",
    "from tqdm import tqdm\n",
    "\n",
    "from chinese_checkers.reinforcement.experience import Experience, ExperienceMetadata, ExperienceCatalog\n",
    "from chinese_checkers.reinforcement.dql import DQLAgent, DqlModelValidation\n",
    "from chinese_checkers.simulation import SimulationCatalog, SimulationMetadata, SimulationData"
   ]
  },
  {
   "cell_type": "code",
   "execution_count": 2,
   "id": "ee7434c8-8af0-4f74-a94a-7ebb2807f98d",
   "metadata": {},
   "outputs": [],
   "source": [
    "# import logging\n",
    "# logging.basicConfig(level=logging.DEBUG)"
   ]
  },
  {
   "cell_type": "code",
   "execution_count": 11,
   "id": "5292b10bb2a4fc17",
   "metadata": {
    "ExecuteTime": {
     "end_time": "2024-11-04T08:40:23.262716Z",
     "start_time": "2024-11-04T08:40:23.254592Z"
    }
   },
   "outputs": [
    {
     "data": {
      "text/plain": [
       "[SimulationMetadata(player_count=2, board_size=4, max_game_length=1000, winning_player='0', name='bootstrap-simulation', version='v0.0.1'),\n",
       " SimulationMetadata(player_count=2, board_size=4, max_game_length=1000, winning_player='3', name='bootstrap-simulation', version='v0.0.1'),\n",
       " SimulationMetadata(player_count=2, board_size=4, max_game_length=1000, winning_player='None', name='bad-player-3-bootstrap-simulation', version='v0.0.1'),\n",
       " SimulationMetadata(player_count=2, board_size=4, max_game_length=1000, winning_player='0', name='bad-player-3-bootstrap-simulation', version='v0.0.1'),\n",
       " SimulationMetadata(player_count=2, board_size=4, max_game_length=1000, winning_player='3', name='bad-player-3-bootstrap-simulation', version='v0.0.1')]"
      ]
     },
     "execution_count": 11,
     "metadata": {},
     "output_type": "execute_result"
    }
   ],
   "source": [
    "sim_catalog = SimulationCatalog()\n",
    "sim_metadata: List[SimulationMetadata] = sim_catalog.list_datasets()\n",
    "sim_metadata"
   ]
  },
  {
   "cell_type": "code",
   "execution_count": 12,
   "id": "d89559c0773e00aa",
   "metadata": {
    "ExecuteTime": {
     "end_time": "2024-11-04T08:40:27.074256Z",
     "start_time": "2024-11-04T08:40:24.630085Z"
    }
   },
   "outputs": [
    {
     "name": "stdout",
     "output_type": "stream",
     "text": [
      "Found 1992 datasets for winning_players: ['0', '3'] and player_count: 2.\n"
     ]
    }
   ],
   "source": [
    "winning_players = [\"0\", \"3\"]\n",
    "player_count = 2\n",
    "\n",
    "simulations: List[SimulationData] = [\n",
    "    dataset\n",
    "    for metadata in sim_metadata\n",
    "    if metadata.winning_player in winning_players\n",
    "        and metadata.player_count == player_count\n",
    "    for dataset in sim_catalog.load_dataset(metadata)\n",
    "]\n",
    "print(f\"Found {len(simulations)} datasets for winning_players: {winning_players} and player_count: {player_count}.\")"
   ]
  },
  {
   "cell_type": "code",
   "execution_count": 13,
   "id": "f4311412-d8f1-4730-ad91-c58c6511b048",
   "metadata": {},
   "outputs": [
    {
     "data": {
      "text/plain": [
       "[ExperienceMetadata(player_count='2', board_size='4', max_game_length='1000', winning_player='0', name='bootstrap-simulation', version='v0.0.1', generator_name='v0.0.1', current_player='0'),\n",
       " ExperienceMetadata(player_count='2', board_size='4', max_game_length='1000', winning_player='0', name='bootstrap-simulation', version='v0.0.1', generator_name='v0.0.1', current_player='3'),\n",
       " ExperienceMetadata(player_count='2', board_size='4', max_game_length='1000', winning_player='3', name='bootstrap-simulation', version='v0.0.1', generator_name='v0.0.1', current_player='0'),\n",
       " ExperienceMetadata(player_count='2', board_size='4', max_game_length='1000', winning_player='3', name='bootstrap-simulation', version='v0.0.1', generator_name='v0.0.1', current_player='3')]"
      ]
     },
     "execution_count": 13,
     "metadata": {},
     "output_type": "execute_result"
    }
   ],
   "source": [
    "exp_catalog = ExperienceCatalog()\n",
    "exp_catalog.list_datasets()"
   ]
  },
  {
   "cell_type": "code",
   "execution_count": 14,
   "id": "801d4a9415685cce",
   "metadata": {
    "ExecuteTime": {
     "end_time": "2024-11-04T08:40:27.786695Z",
     "start_time": "2024-11-04T08:40:27.655211Z"
    }
   },
   "outputs": [
    {
     "name": "stderr",
     "output_type": "stream",
     "text": [
      "Generating experiences (Last generated: 324 experiences):   1%|          | 19/1992 [03:32<6:08:27, 11.21s/it]\n"
     ]
    },
    {
     "ename": "OSError",
     "evalue": "[Errno 0] Unable to synchronously open file (unable to lock file, errno = 0, error message = 'No error', Win32 GetLastError() = 33)",
     "output_type": "error",
     "traceback": [
      "\u001b[1;31m---------------------------------------------------------------------------\u001b[0m",
      "\u001b[1;31mOSError\u001b[0m                                   Traceback (most recent call last)",
      "Cell \u001b[1;32mIn[14], line 8\u001b[0m\n\u001b[0;32m      3\u001b[0m \u001b[38;5;28;01mfor\u001b[39;00m simulation \u001b[38;5;129;01min\u001b[39;00m pbar:\n\u001b[0;32m      4\u001b[0m     experiences \u001b[38;5;241m=\u001b[39m Experience\u001b[38;5;241m.\u001b[39mgenerate_experiences_from_simulation(\n\u001b[0;32m      5\u001b[0m         simulation,\n\u001b[0;32m      6\u001b[0m         generator_name\u001b[38;5;241m=\u001b[39m\u001b[38;5;124m\"\u001b[39m\u001b[38;5;124mv0.0.1\u001b[39m\u001b[38;5;124m\"\u001b[39m\n\u001b[0;32m      7\u001b[0m     )\n\u001b[1;32m----> 8\u001b[0m     \u001b[43mexp_catalog\u001b[49m\u001b[38;5;241;43m.\u001b[39;49m\u001b[43madd_record_list\u001b[49m\u001b[43m(\u001b[49m\u001b[43mexperiences\u001b[49m\u001b[43m)\u001b[49m\n\u001b[0;32m      9\u001b[0m     pbar\u001b[38;5;241m.\u001b[39mset_description(\u001b[38;5;124mf\u001b[39m\u001b[38;5;124m\"\u001b[39m\u001b[38;5;124mGenerating experiences (Last generated: \u001b[39m\u001b[38;5;132;01m{\u001b[39;00m\u001b[38;5;28mlen\u001b[39m(experiences)\u001b[38;5;132;01m}\u001b[39;00m\u001b[38;5;124m experiences)\u001b[39m\u001b[38;5;124m\"\u001b[39m)\n",
      "File \u001b[1;32m~\\Documents\\Stanford\\CS223\\ChineseCheckersGameEngine\\ChineseCheckersGameEngine\\src\\chinese_checkers\\catalog\\LocalH5Catalog.py:63\u001b[0m, in \u001b[0;36mLocalH5Catalog.add_record_list\u001b[1;34m(self, data_metadata_list, batch_size)\u001b[0m\n\u001b[0;32m     61\u001b[0m logger\u001b[38;5;241m.\u001b[39minfo(\u001b[38;5;124mf\u001b[39m\u001b[38;5;124m\"\u001b[39m\u001b[38;5;124mProcessing batch \u001b[39m\u001b[38;5;132;01m{\u001b[39;00mi\u001b[38;5;250m \u001b[39m\u001b[38;5;241m/\u001b[39m\u001b[38;5;241m/\u001b[39m\u001b[38;5;250m \u001b[39mbatch_size\u001b[38;5;250m \u001b[39m\u001b[38;5;241m+\u001b[39m\u001b[38;5;250m \u001b[39m\u001b[38;5;241m1\u001b[39m\u001b[38;5;132;01m}\u001b[39;00m\u001b[38;5;124m of \u001b[39m\u001b[38;5;132;01m{\u001b[39;00mtotal_batches\u001b[38;5;132;01m}\u001b[39;00m\u001b[38;5;124m\"\u001b[39m)\n\u001b[0;32m     62\u001b[0m \u001b[38;5;28;01mfor\u001b[39;00m data_metadata \u001b[38;5;129;01min\u001b[39;00m batch:\n\u001b[1;32m---> 63\u001b[0m     \u001b[38;5;28;43mself\u001b[39;49m\u001b[38;5;241;43m.\u001b[39;49m\u001b[43m_add_record_internal\u001b[49m\u001b[43m(\u001b[49m\u001b[43mdata_metadata\u001b[49m\u001b[43m)\u001b[49m\n",
      "File \u001b[1;32m~\\Documents\\Stanford\\CS223\\ChineseCheckersGameEngine\\ChineseCheckersGameEngine\\src\\chinese_checkers\\catalog\\LocalH5Catalog.py:78\u001b[0m, in \u001b[0;36mLocalH5Catalog._add_record_internal\u001b[1;34m(self, data_metadata)\u001b[0m\n\u001b[0;32m     75\u001b[0m     logger\u001b[38;5;241m.\u001b[39minfo(\u001b[38;5;124mf\u001b[39m\u001b[38;5;124m\"\u001b[39m\u001b[38;5;124mCreated new dataset for metadata \u001b[39m\u001b[38;5;132;01m{\u001b[39;00mdata_metadata\u001b[38;5;241m.\u001b[39mmetadata\u001b[38;5;132;01m}\u001b[39;00m\u001b[38;5;124m\"\u001b[39m)\n\u001b[0;32m     77\u001b[0m \u001b[38;5;66;03m# Append the record to the file\u001b[39;00m\n\u001b[1;32m---> 78\u001b[0m \u001b[38;5;28;01mwith\u001b[39;00m \u001b[43mh5py\u001b[49m\u001b[38;5;241;43m.\u001b[39;49m\u001b[43mFile\u001b[49m\u001b[43m(\u001b[49m\u001b[43mfile_path\u001b[49m\u001b[43m,\u001b[49m\u001b[43m \u001b[49m\u001b[38;5;124;43m'\u001b[39;49m\u001b[38;5;124;43ma\u001b[39;49m\u001b[38;5;124;43m'\u001b[39;49m\u001b[43m)\u001b[49m \u001b[38;5;28;01mas\u001b[39;00m h5file:\n\u001b[0;32m     79\u001b[0m     group \u001b[38;5;241m=\u001b[39m h5file\u001b[38;5;241m.\u001b[39mcreate_group(\u001b[38;5;124mf\u001b[39m\u001b[38;5;124m'\u001b[39m\u001b[38;5;124mdata_\u001b[39m\u001b[38;5;132;01m{\u001b[39;00m\u001b[38;5;28mlen\u001b[39m(h5file\u001b[38;5;241m.\u001b[39mkeys())\u001b[38;5;132;01m}\u001b[39;00m\u001b[38;5;124m'\u001b[39m)\n\u001b[0;32m     80\u001b[0m     \u001b[38;5;28;01mfor\u001b[39;00m key, value \u001b[38;5;129;01min\u001b[39;00m storable_data\u001b[38;5;241m.\u001b[39mitems():\n",
      "File \u001b[1;32m~\\Documents\\Stanford\\CS223\\ChineseCheckersGameEngine\\ChineseCheckersGameEngine\\venv\\Lib\\site-packages\\h5py\\_hl\\files.py:561\u001b[0m, in \u001b[0;36mFile.__init__\u001b[1;34m(self, name, mode, driver, libver, userblock_size, swmr, rdcc_nslots, rdcc_nbytes, rdcc_w0, track_order, fs_strategy, fs_persist, fs_threshold, fs_page_size, page_buf_size, min_meta_keep, min_raw_keep, locking, alignment_threshold, alignment_interval, meta_block_size, **kwds)\u001b[0m\n\u001b[0;32m    552\u001b[0m     fapl \u001b[38;5;241m=\u001b[39m make_fapl(driver, libver, rdcc_nslots, rdcc_nbytes, rdcc_w0,\n\u001b[0;32m    553\u001b[0m                      locking, page_buf_size, min_meta_keep, min_raw_keep,\n\u001b[0;32m    554\u001b[0m                      alignment_threshold\u001b[38;5;241m=\u001b[39malignment_threshold,\n\u001b[0;32m    555\u001b[0m                      alignment_interval\u001b[38;5;241m=\u001b[39malignment_interval,\n\u001b[0;32m    556\u001b[0m                      meta_block_size\u001b[38;5;241m=\u001b[39mmeta_block_size,\n\u001b[0;32m    557\u001b[0m                      \u001b[38;5;241m*\u001b[39m\u001b[38;5;241m*\u001b[39mkwds)\n\u001b[0;32m    558\u001b[0m     fcpl \u001b[38;5;241m=\u001b[39m make_fcpl(track_order\u001b[38;5;241m=\u001b[39mtrack_order, fs_strategy\u001b[38;5;241m=\u001b[39mfs_strategy,\n\u001b[0;32m    559\u001b[0m                      fs_persist\u001b[38;5;241m=\u001b[39mfs_persist, fs_threshold\u001b[38;5;241m=\u001b[39mfs_threshold,\n\u001b[0;32m    560\u001b[0m                      fs_page_size\u001b[38;5;241m=\u001b[39mfs_page_size)\n\u001b[1;32m--> 561\u001b[0m     fid \u001b[38;5;241m=\u001b[39m \u001b[43mmake_fid\u001b[49m\u001b[43m(\u001b[49m\u001b[43mname\u001b[49m\u001b[43m,\u001b[49m\u001b[43m \u001b[49m\u001b[43mmode\u001b[49m\u001b[43m,\u001b[49m\u001b[43m \u001b[49m\u001b[43muserblock_size\u001b[49m\u001b[43m,\u001b[49m\u001b[43m \u001b[49m\u001b[43mfapl\u001b[49m\u001b[43m,\u001b[49m\u001b[43m \u001b[49m\u001b[43mfcpl\u001b[49m\u001b[43m,\u001b[49m\u001b[43m \u001b[49m\u001b[43mswmr\u001b[49m\u001b[38;5;241;43m=\u001b[39;49m\u001b[43mswmr\u001b[49m\u001b[43m)\u001b[49m\n\u001b[0;32m    563\u001b[0m \u001b[38;5;28;01mif\u001b[39;00m \u001b[38;5;28misinstance\u001b[39m(libver, \u001b[38;5;28mtuple\u001b[39m):\n\u001b[0;32m    564\u001b[0m     \u001b[38;5;28mself\u001b[39m\u001b[38;5;241m.\u001b[39m_libver \u001b[38;5;241m=\u001b[39m libver\n",
      "File \u001b[1;32m~\\Documents\\Stanford\\CS223\\ChineseCheckersGameEngine\\ChineseCheckersGameEngine\\venv\\Lib\\site-packages\\h5py\\_hl\\files.py:247\u001b[0m, in \u001b[0;36mmake_fid\u001b[1;34m(name, mode, userblock_size, fapl, fcpl, swmr)\u001b[0m\n\u001b[0;32m    242\u001b[0m \u001b[38;5;28;01melif\u001b[39;00m mode \u001b[38;5;241m==\u001b[39m \u001b[38;5;124m'\u001b[39m\u001b[38;5;124ma\u001b[39m\u001b[38;5;124m'\u001b[39m:\n\u001b[0;32m    243\u001b[0m     \u001b[38;5;66;03m# Open in append mode (read/write).\u001b[39;00m\n\u001b[0;32m    244\u001b[0m     \u001b[38;5;66;03m# If that fails, create a new file only if it won't clobber an\u001b[39;00m\n\u001b[0;32m    245\u001b[0m     \u001b[38;5;66;03m# existing one (ACC_EXCL)\u001b[39;00m\n\u001b[0;32m    246\u001b[0m     \u001b[38;5;28;01mtry\u001b[39;00m:\n\u001b[1;32m--> 247\u001b[0m         fid \u001b[38;5;241m=\u001b[39m \u001b[43mh5f\u001b[49m\u001b[38;5;241;43m.\u001b[39;49m\u001b[43mopen\u001b[49m\u001b[43m(\u001b[49m\u001b[43mname\u001b[49m\u001b[43m,\u001b[49m\u001b[43m \u001b[49m\u001b[43mh5f\u001b[49m\u001b[38;5;241;43m.\u001b[39;49m\u001b[43mACC_RDWR\u001b[49m\u001b[43m,\u001b[49m\u001b[43m \u001b[49m\u001b[43mfapl\u001b[49m\u001b[38;5;241;43m=\u001b[39;49m\u001b[43mfapl\u001b[49m\u001b[43m)\u001b[49m\n\u001b[0;32m    248\u001b[0m     \u001b[38;5;66;03m# Not all drivers raise FileNotFoundError (commented those that do not)\u001b[39;00m\n\u001b[0;32m    249\u001b[0m     \u001b[38;5;28;01mexcept\u001b[39;00m \u001b[38;5;167;01mFileNotFoundError\u001b[39;00m \u001b[38;5;28;01mif\u001b[39;00m fapl\u001b[38;5;241m.\u001b[39mget_driver() \u001b[38;5;129;01min\u001b[39;00m (\n\u001b[0;32m    250\u001b[0m         h5fd\u001b[38;5;241m.\u001b[39mSEC2,\n\u001b[0;32m    251\u001b[0m         h5fd\u001b[38;5;241m.\u001b[39mDIRECT \u001b[38;5;28;01mif\u001b[39;00m direct_vfd \u001b[38;5;28;01melse\u001b[39;00m \u001b[38;5;241m-\u001b[39m\u001b[38;5;241m1\u001b[39m,\n\u001b[1;32m   (...)\u001b[0m\n\u001b[0;32m    259\u001b[0m         h5fd\u001b[38;5;241m.\u001b[39mROS3D \u001b[38;5;28;01mif\u001b[39;00m ros3 \u001b[38;5;28;01melse\u001b[39;00m \u001b[38;5;241m-\u001b[39m\u001b[38;5;241m1\u001b[39m,\n\u001b[0;32m    260\u001b[0m     ) \u001b[38;5;28;01melse\u001b[39;00m \u001b[38;5;167;01mOSError\u001b[39;00m:\n",
      "File \u001b[1;32mh5py\\\\_objects.pyx:54\u001b[0m, in \u001b[0;36mh5py._objects.with_phil.wrapper\u001b[1;34m()\u001b[0m\n",
      "File \u001b[1;32mh5py\\\\_objects.pyx:55\u001b[0m, in \u001b[0;36mh5py._objects.with_phil.wrapper\u001b[1;34m()\u001b[0m\n",
      "File \u001b[1;32mh5py\\\\h5f.pyx:102\u001b[0m, in \u001b[0;36mh5py.h5f.open\u001b[1;34m()\u001b[0m\n",
      "\u001b[1;31mOSError\u001b[0m: [Errno 0] Unable to synchronously open file (unable to lock file, errno = 0, error message = 'No error', Win32 GetLastError() = 33)"
     ]
    }
   ],
   "source": [
    "random.shuffle(simulations)\n",
    "with tqdm(simulations, desc=\"Generating experiences\") as pbar:\n",
    "    for simulation in pbar:\n",
    "        experiences = Experience.generate_experiences_from_simulation(\n",
    "            simulation,\n",
    "            generator_name=\"v0.0.1\"\n",
    "        )\n",
    "        exp_catalog.add_record_list(experiences)\n",
    "        pbar.set_description(f\"Generating experiences (Last generated: {len(experiences)} experiences)\")\n"
   ]
  },
  {
   "cell_type": "code",
   "execution_count": null,
   "id": "269ffb134ed8f8f8",
   "metadata": {},
   "outputs": [],
   "source": [
    "exp_metadata: List[ExperienceMetadata] = exp_catalog.list_datasets()\n",
    "exp_metadata"
   ]
  },
  {
   "cell_type": "code",
   "execution_count": null,
   "id": "e1035db6a7a5df54",
   "metadata": {},
   "outputs": [],
   "source": [
    "experiences: List[Experience] = [\n",
    "    dataset\n",
    "    for metadata in exp_metadata\n",
    "    if metadata.winning_player in winning_players\n",
    "        and metadata.player_count == str(player_count)\n",
    "    for dataset in exp_catalog.load_dataset(metadata)\n",
    "]\n",
    "print(f\"Found {len(experiences)} datasets for winning_players: {winning_players} and player_count: {player_count}.\")"
   ]
  },
  {
   "cell_type": "code",
   "execution_count": null,
   "id": "8dda669efa9c39df",
   "metadata": {},
   "outputs": [],
   "source": []
  }
 ],
 "metadata": {
  "kernelspec": {
   "display_name": "Python 3 (ipykernel)",
   "language": "python",
   "name": "python3"
  },
  "language_info": {
   "codemirror_mode": {
    "name": "ipython",
    "version": 3
   },
   "file_extension": ".py",
   "mimetype": "text/x-python",
   "name": "python",
   "nbconvert_exporter": "python",
   "pygments_lexer": "ipython3",
   "version": "3.12.6"
  }
 },
 "nbformat": 4,
 "nbformat_minor": 5
}
