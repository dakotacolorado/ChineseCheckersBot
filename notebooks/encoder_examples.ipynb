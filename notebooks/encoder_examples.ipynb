{
 "cells": [
  {
   "cell_type": "code",
   "id": "initial_id",
   "metadata": {
    "collapsed": true,
    "ExecuteTime": {
     "end_time": "2024-11-03T02:25:37.453704Z",
     "start_time": "2024-11-03T02:25:36.952897Z"
    }
   },
   "source": [
    "from src.chinese_checkers.experience import Experience, ExperienceGenerator, IRewardStrategy, RewardStrategyFactory\n",
    "from src.chinese_checkers.encoder import ExperienceEncoder\n",
    "\n",
    "\n",
    "from typing import List\n",
    "\n",
    "from src.chinese_checkers.simulation import GameSimulationCatalog"
   ],
   "outputs": [],
   "execution_count": 1
  },
  {
   "metadata": {},
   "cell_type": "markdown",
   "source": [
    "# Encoder Module Examples\n",
    "\n",
    "---\n",
    "\n",
    "## Example 1: Load simulation and encode them"
   ],
   "id": "a2080bf16c622096"
  },
  {
   "metadata": {
    "ExecuteTime": {
     "end_time": "2024-11-03T02:25:37.490758Z",
     "start_time": "2024-11-03T02:25:37.456702Z"
    }
   },
   "cell_type": "code",
   "source": [
    "catalog = GameSimulationCatalog(\"D:/chinese_checkers_games\")\n",
    "metadata_list = catalog.list_available_metadata()\n",
    "simulations = list(catalog.load_simulations_by_metadata(metadata_list[0]))\n",
    "print(f\"Loaded {len(simulations)} simulations\")"
   ],
   "id": "5184fbe8ec30f7fe",
   "outputs": [
    {
     "name": "stdout",
     "output_type": "stream",
     "text": [
      "Loaded 23 simulations\n"
     ]
    }
   ],
   "execution_count": 2
  },
  {
   "metadata": {
    "ExecuteTime": {
     "end_time": "2024-11-03T02:25:37.631980Z",
     "start_time": "2024-11-03T02:25:37.628880Z"
    }
   },
   "cell_type": "code",
   "source": [
    "# use the distance to win reward strategy\n",
    "reward_strategy: IRewardStrategy = RewardStrategyFactory.create(\"distance_to_win\")\n",
    "experience_generator = ExperienceGenerator(reward_strategy)"
   ],
   "id": "be684db1f221373",
   "outputs": [],
   "execution_count": 3
  },
  {
   "metadata": {
    "ExecuteTime": {
     "end_time": "2024-11-03T02:25:37.776790Z",
     "start_time": "2024-11-03T02:25:37.638311Z"
    }
   },
   "cell_type": "code",
   "source": [
    "# create new experiences from the simulations\n",
    "experiences: List[Experience] = [\n",
    "    exper \n",
    "    for sim in simulations\n",
    "    for exper in experience_generator.generate_experiences_from_simulation(sim)\n",
    "]\n",
    "for e in experiences[:4]:\n",
    "    print(e)"
   ],
   "id": "98ae2c49d355c1c9",
   "outputs": [
    {
     "name": "stdout",
     "output_type": "stream",
     "text": [
      "Experience(state=<src.chinese_checkers.game.ChineseCheckersGame.ChineseCheckersGame object at 0x0000025313636150>, action=Move(-2, 0), Position(4, 2), reward=-0.0036101083032490976, next_state=<src.chinese_checkers.game.ChineseCheckersGame.ChineseCheckersGame object at 0x0000025313637950>, done=False)\n",
      "Experience(state=<src.chinese_checkers.game.ChineseCheckersGame.ChineseCheckersGame object at 0x0000025313637950>, action=Move(2, 0), Position(-4, -2), reward=-0.007220216606498195, next_state=<src.chinese_checkers.game.ChineseCheckersGame.ChineseCheckersGame object at 0x00000253136375C0>, done=False)\n",
      "Experience(state=<src.chinese_checkers.game.ChineseCheckersGame.ChineseCheckersGame object at 0x00000253136375C0>, action=Move(0, -2), Position(2, 3), reward=-0.010830324909747292, next_state=<src.chinese_checkers.game.ChineseCheckersGame.ChineseCheckersGame object at 0x0000025313637650>, done=False)\n",
      "Experience(state=<src.chinese_checkers.game.ChineseCheckersGame.ChineseCheckersGame object at 0x0000025313637650>, action=Move(1, 0), Position(-2, -2), reward=-0.01444043321299639, next_state=<src.chinese_checkers.game.ChineseCheckersGame.ChineseCheckersGame object at 0x00000253136376E0>, done=False)\n"
     ]
    }
   ],
   "execution_count": 4
  },
  {
   "metadata": {
    "ExecuteTime": {
     "end_time": "2024-11-03T02:25:37.870422Z",
     "start_time": "2024-11-03T02:25:37.863405Z"
    }
   },
   "cell_type": "code",
   "source": [
    "\n",
    "# create an encoder\n",
    "encoder = ExperienceEncoder()\n",
    "print(encoder.encode(experiences[5]))"
   ],
   "id": "468e8ca692a886a",
   "outputs": [
    {
     "name": "stdout",
     "output_type": "stream",
     "text": [
      "(array([ 0,  0,  0,  0,  0,  0,  0,  0,  0,  0,  0,  0,  0,  0,  0,  0,  0,\n",
      "        0,  0,  0,  0,  0,  0,  0,  0,  0,  0,  0,  0,  0,  0,  0,  0,  0,\n",
      "        0,  0,  0,  0,  0,  0,  0,  0,  0,  0,  0,  0,  0,  0,  0,  0,  0,\n",
      "        0,  0,  0,  0,  0,  0,  0,  0,  0,  0,  0,  0,  0,  0,  0,  0,  0,\n",
      "        0,  0,  0,  0,  1,  1,  0,  1,  0,  0,  0,  0,  0,  0,  0,  0,  0,\n",
      "        0,  0,  0,  0,  1,  1,  1,  0,  0,  0,  0,  0,  0,  0,  0,  0,  0,\n",
      "        0,  0,  0,  0,  1,  1,  0,  0,  0,  0,  0,  0,  0,  0,  0,  0,  0,\n",
      "        0,  0,  0,  0,  1,  0,  1,  0,  0,  0,  0,  0,  0,  0,  0,  0,  0,\n",
      "        0,  0,  0,  0,  0,  0,  0,  0,  0,  0,  0,  0,  0,  0,  0,  0,  0,\n",
      "        0,  0,  0,  0,  0,  0,  0,  0,  0,  0,  0,  0,  0,  0,  0,  0,  0,\n",
      "        0,  0,  0,  0,  0,  0,  0,  0,  0,  0,  0,  0,  0,  0,  0,  0,  0,\n",
      "        0,  0,  0,  0,  0,  0,  0,  0,  0,  0,  0,  0,  0,  0,  0,  0,  0,\n",
      "        0,  0,  0,  0,  0,  0,  0,  0,  0,  0,  0,  0,  0,  0,  0,  0,  0,\n",
      "        0,  0,  0,  0,  0,  0,  0,  0,  0,  0,  0,  0,  0,  0,  0,  0,  0,\n",
      "        0,  0,  0,  0,  0,  0,  0,  0,  0,  0,  0,  0,  0,  0,  0,  0,  0,\n",
      "        0,  0,  0,  0,  0,  0,  0,  0,  0,  0,  0,  0,  0,  0,  0,  0,  0,\n",
      "        0,  0,  0,  0,  0,  0,  0,  0,  0,  0,  0,  0,  0,  0,  0,  0,  0,\n",
      "        0,  0,  0,  0,  0,  0,  0,  0,  0,  0,  0,  0,  0,  0,  0,  0,  0,\n",
      "        0,  0,  0,  0,  0,  0,  0,  0,  0,  0,  0,  0,  0,  0,  0,  0,  0,\n",
      "        0,  0,  0,  0,  0,  0,  0,  0,  0,  0,  0,  0,  0,  0,  0,  0,  0,\n",
      "        0,  0,  0,  0,  0,  0,  0,  0,  0,  0,  0,  0,  0,  0,  0,  0,  0,\n",
      "        0,  0,  0,  0,  0,  0,  0,  0,  0,  0,  0,  0,  0,  0,  0,  0,  0,\n",
      "        0,  0,  0,  0,  0,  0,  0,  0,  0,  0,  0,  0,  0,  0,  0,  0,  0,\n",
      "        0,  0,  0,  0,  0,  0,  0,  0,  0,  0,  0,  0,  0,  0,  0,  0,  0,\n",
      "        0,  0,  0,  0,  0,  0,  0,  0,  0,  0,  0,  0,  0,  0,  0,  0,  0,\n",
      "        0,  0,  0,  0,  0,  0,  0,  0,  0,  0,  0,  0,  0,  0,  0,  0,  0,\n",
      "        0,  0,  0,  0,  0,  0,  0,  0,  0,  1,  0,  0,  1,  0,  0,  0,  0,\n",
      "        0,  0,  0,  0,  0,  0,  0,  0,  0,  1,  1,  0,  1,  0,  0,  0,  0,\n",
      "        0,  0,  0,  0,  0,  0,  0,  0,  0,  0,  1,  0,  1,  0,  0,  0,  0,\n",
      "        0,  0,  0,  0,  0,  0,  0,  0,  0,  1,  0,  1,  1,  0,  0,  0,  0,\n",
      "        0,  0,  0,  0,  0,  0,  0,  0,  0,  0,  0,  0,  0,  0,  0,  0,  0,\n",
      "        0,  0,  0,  0,  0,  0,  0,  0,  0,  0,  0,  0,  0,  0,  0,  0,  0,\n",
      "        0,  0,  0,  0,  0,  0,  0,  0,  0,  0,  0,  0,  0,  0,  0,  0,  0,\n",
      "        0,  0,  0,  0,  0,  0,  0,  0,  0,  0,  0,  0,  0,  0,  0,  0,  0,\n",
      "        0,  0,  0,  1,  0,  0,  1,  0,  0, -4,  0,  1, -1, -3,  1,  0, -1,\n",
      "       -3,  0,  1, -2, -2,  2,  0,  0, -4,  0,  2, -2, -2,  2,  2,  0, -2,\n",
      "       -2,  2, -4, -2, -2,  4, -4,  0, -2,  2, -4, -2,  0,  2, -2, -2,  2,\n",
      "        2,  0, -2, -2,  4, -4,  0,  1,  0, -2, -2,  0,  1, -3, -1, -1,  0,\n",
      "       -4, -2,  2,  0, -1, -3,  2,  2, -1, -1,  0,  2, -3, -1, -1,  1, -4,\n",
      "       -2,  1,  0, -3, -1,  0,  1, -4,  0,  0, -1, -4, -2,  1,  0,  0, -2,\n",
      "        0,  1, -1, -1, -1,  1, -2, -1, -1,  0, -2, -2,  0, -1, -1, -3,  1,\n",
      "       -1,  0, -3,  0,  1, -4, -2,  0,  2, -4, -2,  2,  2, -2, -2,  4,  2,\n",
      "        0, -2,  0,  4, -4,  0,  0,  0,  0,  0,  0,  0,  0,  0,  0,  0,  0,\n",
      "        0,  0,  0,  0,  0,  0,  0,  0,  0,  0,  0,  0,  0,  0,  0,  0,  0,\n",
      "        0,  0,  0,  0,  0,  0,  0,  0,  0,  0,  0,  0,  0,  0,  0,  0,  0,\n",
      "        0,  0,  0,  0,  0,  0,  0,  0,  0,  0,  0,  0,  0,  0,  0,  0,  0,\n",
      "        0,  0,  0,  0,  0,  0,  0,  0,  0,  0,  0,  0,  0,  0,  0,  0,  0,\n",
      "        0,  0,  0,  0,  0,  0,  0,  0,  0,  0,  0,  0,  0,  0,  0,  0,  0,\n",
      "        0,  0,  0,  0,  0,  0,  0,  0,  0,  0,  0,  0,  0,  0,  0,  0,  0,\n",
      "        0,  0,  0,  0,  0,  0,  0,  0,  0,  0,  0,  0,  0,  0,  0,  0,  0,\n",
      "        0,  0,  0,  0,  0,  0,  0,  0,  0,  0,  0,  0,  0,  0,  0,  0,  0,\n",
      "        0,  0,  0,  0,  0,  0,  0,  0,  0,  0,  0,  0,  0,  0,  0,  0,  0,\n",
      "        0,  0,  0,  0,  0,  0,  0,  0,  0,  0,  0,  0,  0,  0,  0,  0,  0,\n",
      "        0,  0,  0,  0,  0,  0,  0,  0,  0,  0,  0,  0,  0,  0,  0,  0,  0,\n",
      "        0,  0,  0,  0,  0,  0,  0,  0,  0,  0,  0,  0,  0,  0,  0,  0,  0,\n",
      "        0,  0,  0,  0,  0,  0,  0,  0,  0,  0,  0,  0,  0,  0,  0,  0,  0,\n",
      "        0,  0,  0,  0,  0,  0,  0,  0,  0,  0,  0,  0,  0,  0,  0,  0,  0,\n",
      "        0,  0,  0,  0,  0,  0,  0,  0,  0,  0,  0,  0,  0,  0,  0]), array([ 2,  2, -1, -1]), -0.021660649819494584, array([ 0,  0,  0,  0,  0,  0,  0,  0,  0,  0,  0,  0,  0,  0,  0,  0,  0,\n",
      "        0,  0,  0,  0,  0,  0,  0,  0,  0,  0,  0,  0,  0,  0,  0,  0,  0,\n",
      "        0,  0,  0,  0,  0,  0,  0,  0,  0,  0,  0,  0,  0,  0,  0,  0,  0,\n",
      "        0,  0,  0,  0,  0,  0,  0,  0,  0,  0,  0,  0,  0,  0,  0,  0,  0,\n",
      "        0,  0,  0,  0,  0,  0,  0,  0,  0,  0,  0,  0,  0,  0,  0,  0,  0,\n",
      "        0,  0,  0,  0,  0,  0,  0,  0,  0,  0,  0,  0,  0,  0,  0,  0,  0,\n",
      "        0,  0,  0,  0,  0,  0,  0,  0,  0,  0,  0,  0,  0,  0,  0,  0,  0,\n",
      "        0,  0,  0,  0,  0,  0,  0,  0,  0,  0,  0,  0,  0,  0,  0,  0,  0,\n",
      "        0,  0,  0,  0,  0,  0,  0,  0,  0,  0,  0,  0,  0,  0,  0,  0,  0,\n",
      "        0,  0,  0,  0,  0,  0,  0,  0,  0,  1,  0,  0,  1,  0,  0,  0,  0,\n",
      "        0,  0,  0,  0,  0,  0,  0,  0,  0,  1,  1,  0,  1,  0,  0,  0,  0,\n",
      "        0,  0,  0,  0,  0,  0,  0,  0,  0,  0,  1,  0,  1,  0,  0,  0,  0,\n",
      "        0,  0,  0,  0,  0,  0,  0,  0,  0,  1,  0,  1,  1,  0,  0,  0,  0,\n",
      "        0,  0,  0,  0,  0,  0,  0,  0,  0,  0,  0,  0,  0,  0,  0,  0,  0,\n",
      "        0,  0,  0,  0,  0,  0,  0,  0,  0,  0,  0,  0,  0,  0,  0,  0,  0,\n",
      "        0,  0,  0,  0,  0,  0,  0,  0,  0,  0,  0,  0,  0,  0,  0,  0,  0,\n",
      "        0,  0,  0,  0,  0,  0,  0,  0,  0,  0,  0,  0,  0,  0,  0,  0,  0,\n",
      "        0,  0,  0,  0,  0,  0,  0,  0,  0,  0,  0,  0,  0,  0,  0,  0,  0,\n",
      "        0,  0,  0,  0,  0,  0,  0,  0,  0,  0,  0,  0,  0,  0,  0,  0,  0,\n",
      "        0,  0,  0,  0,  0,  0,  0,  0,  0,  0,  0,  0,  0,  0,  0,  0,  0,\n",
      "        0,  0,  0,  0,  0,  0,  0,  0,  0,  0,  0,  0,  0,  0,  0,  0,  0,\n",
      "        0,  0,  0,  0,  1,  1,  0,  1,  0,  0,  0,  0,  0,  0,  0,  0,  0,\n",
      "        0,  0,  0,  0,  1,  0,  1,  0,  0,  0,  0,  0,  0,  0,  0,  0,  0,\n",
      "        0,  0,  0,  0,  1,  1,  0,  0,  0,  0,  0,  0,  0,  0,  0,  0,  0,\n",
      "        0,  0,  0,  0,  1,  0,  1,  1,  0,  0,  0,  0,  0,  0,  0,  0,  0,\n",
      "        0,  0,  0,  0,  0,  0,  0,  0,  0,  0,  0,  0,  0,  0,  0,  0,  0,\n",
      "        0,  0,  0,  0,  0,  0,  0,  0,  0,  0,  0,  0,  0,  0,  0,  0,  0,\n",
      "        0,  0,  0,  0,  0,  0,  0,  0,  0,  0,  0,  0,  0,  0,  0,  0,  0,\n",
      "        0,  0,  0,  0,  0,  0,  0,  0,  0,  0,  0,  0,  0,  0,  0,  0,  0,\n",
      "        0,  0,  0,  0,  0,  0,  0,  0,  0,  0,  0,  0,  0,  0,  0,  0,  0,\n",
      "        0,  0,  0,  0,  0,  0,  0,  0,  0,  0,  0,  0,  0,  0,  0,  0,  0,\n",
      "        0,  0,  0,  0,  0,  0,  0,  0,  0,  0,  0,  0,  0,  0,  0,  0,  0,\n",
      "        0,  0,  0,  0,  0,  0,  0,  0,  0,  0,  0,  0,  0,  0,  0,  0,  0,\n",
      "        0,  0,  0,  0,  0,  0,  0,  0,  0,  0,  0,  0,  0,  0,  0,  0,  0,\n",
      "        1,  0,  0,  0,  0,  0, -1,  0,  0,  4,  0, -1,  1,  3,  1, -1,  2,\n",
      "        3,  1,  0,  3,  1,  0,  2,  2,  3, -1,  1,  1,  2, -2,  0,  0,  1,\n",
      "        0, -1,  2,  0,  1, -1,  3,  0, -2,  0,  0,  4,  0, -1,  2,  3,  1,\n",
      "       -1,  3,  3,  1,  0,  4,  2,  0,  1,  3,  3, -1,  1,  2,  3, -2,  0,\n",
      "        1,  2, -2, -2,  1,  0,  0, -2,  3,  0,  0, -1,  3,  1,  2,  0,  3,\n",
      "        1,  2,  2,  3,  3,  0,  2,  1,  3,  0,  1,  1,  2, -1,  1,  0,  2,\n",
      "       -1,  0,  0,  1,  0, -1,  1,  0,  1, -1,  2,  0,  0, -1,  3,  3,  0,\n",
      "        1,  4,  2, -2,  2,  2,  3, -1,  0,  3,  1,  0, -1,  4,  0,  2,  0,\n",
      "        4,  2,  2, -2,  4,  0,  0,  1,  2,  3, -1,  1,  1,  3, -1,  0,  1,\n",
      "        2,  0, -2,  2,  0, -2,  0,  0,  2,  1, -1,  3,  1, -1,  0,  3,  3,\n",
      "        0, -1,  4,  2,  0, -2,  4,  2,  0, -4,  4,  0,  0,  0,  0,  0,  0,\n",
      "        0,  0,  0,  0,  0,  0,  0,  0,  0,  0,  0,  0,  0,  0,  0,  0,  0,\n",
      "        0,  0,  0,  0,  0,  0,  0,  0,  0,  0,  0,  0,  0,  0,  0,  0,  0,\n",
      "        0,  0,  0,  0,  0,  0,  0,  0,  0,  0,  0,  0,  0,  0,  0,  0,  0,\n",
      "        0,  0,  0,  0,  0,  0,  0,  0,  0,  0,  0,  0,  0,  0,  0,  0,  0,\n",
      "        0,  0,  0,  0,  0,  0,  0,  0,  0,  0,  0,  0,  0,  0,  0,  0,  0,\n",
      "        0,  0,  0,  0,  0,  0,  0,  0,  0,  0,  0,  0,  0,  0,  0,  0,  0,\n",
      "        0,  0,  0,  0,  0,  0,  0,  0,  0,  0,  0,  0,  0,  0,  0,  0,  0,\n",
      "        0,  0,  0,  0,  0,  0,  0,  0,  0,  0,  0,  0,  0,  0,  0,  0,  0,\n",
      "        0,  0,  0,  0,  0,  0,  0,  0,  0,  0,  0,  0,  0,  0,  0,  0,  0,\n",
      "        0,  0,  0,  0,  0,  0,  0,  0,  0,  0,  0,  0,  0,  0,  0,  0,  0,\n",
      "        0,  0,  0,  0,  0,  0,  0,  0,  0,  0,  0,  0,  0,  0,  0,  0,  0,\n",
      "        0,  0,  0,  0,  0,  0,  0,  0,  0,  0,  0,  0,  0,  0,  0,  0,  0,\n",
      "        0,  0,  0,  0,  0,  0,  0,  0,  0,  0,  0,  0,  0,  0,  0]), False)\n"
     ]
    }
   ],
   "execution_count": 5
  },
  {
   "metadata": {
    "ExecuteTime": {
     "end_time": "2024-11-03T02:25:37.889837Z",
     "start_time": "2024-11-03T02:25:37.887824Z"
    }
   },
   "cell_type": "code",
   "source": "",
   "id": "6121716cb15ee79b",
   "outputs": [],
   "execution_count": null
  }
 ],
 "metadata": {
  "kernelspec": {
   "display_name": "Python 3",
   "language": "python",
   "name": "python3"
  },
  "language_info": {
   "codemirror_mode": {
    "name": "ipython",
    "version": 2
   },
   "file_extension": ".py",
   "mimetype": "text/x-python",
   "name": "python",
   "nbconvert_exporter": "python",
   "pygments_lexer": "ipython2",
   "version": "2.7.6"
  }
 },
 "nbformat": 4,
 "nbformat_minor": 5
}
