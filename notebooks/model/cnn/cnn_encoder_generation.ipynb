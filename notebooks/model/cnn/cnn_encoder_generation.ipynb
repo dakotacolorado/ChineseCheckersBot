{
 "cells": [
  {
   "cell_type": "code",
   "execution_count": null,
   "id": "initial_id",
   "metadata": {
    "ExecuteTime": {
     "start_time": "2024-11-12T06:48:48.580417Z"
    },
    "jupyter": {
     "is_executing": true
    }
   },
   "outputs": [],
   "source": [
    "import matplotlib.pyplot as plt\n",
    "from typing import List\n",
    "from chinese_checkers.simulation import S3SimulationCatalog, SimulationMetadata, SimulationData\n",
    "from chinese_checkers.cnn import CnnEncoderExperience\n",
    "import pandas as pd\n",
    "\n",
    "from dataclasses import asdict\n",
    "import random\n",
    "from tqdm import tqdm\n",
    "from chinese_checkers.experience import ExperienceData, S3ExperienceCatalog, ExperienceMetadata"
   ]
  },
  {
   "cell_type": "code",
   "execution_count": null,
   "id": "d3387b0f1ffb8570",
   "metadata": {},
   "outputs": [],
   "source": [
    "sim_catalog = S3SimulationCatalog()\n",
    "# name = \"dql-cnn-v002-vs-bootstrap-p0-simulation\"\n",
    "sim_metadata: List[SimulationMetadata] = sim_catalog.list_datasets()\n",
    "pd.DataFrame([asdict(m) for m in sim_metadata])"
   ]
  },
  {
   "cell_type": "code",
   "execution_count": null,
   "id": "5c7908fc37c84ed9",
   "metadata": {},
   "outputs": [],
   "source": [
    "player_count = 2\n",
    "\n",
    "simulations: List[SimulationData] = [\n",
    "    dataset\n",
    "    for metadata in sim_metadata[:1]\n",
    "    if metadata.player_count == player_count\n",
    "        and metadata.winning_player in [\"0\", \"3\"]\n",
    "        # and metadata.name == name \n",
    "    for dataset in sim_catalog.load_dataset(metadata)\n",
    "]\n",
    "print(f\"Found {len(simulations)} datasets for player_count: {player_count}.\")"
   ]
  },
  {
   "cell_type": "code",
   "execution_count": null,
   "id": "3f938772a1634bbf",
   "metadata": {},
   "outputs": [],
   "source": [
    "exp_catalog = S3ExperienceCatalog()\n",
    "# v0.0.4 punishes the player for keeping pieces in the starting area.  It also rewards positions in the target area.\n",
    "# \n",
    "pd.DataFrame([asdict(e) for e in exp_catalog.list_datasets() if e.generator_name == \"CnnExperienceEncoder-v005\"])"
   ]
  },
  {
   "cell_type": "code",
   "execution_count": null,
   "id": "62ee77f640db936f",
   "metadata": {},
   "outputs": [],
   "source": [
    "exp_encoder = CnnEncoderExperience(\"v005\")"
   ]
  },
  {
   "cell_type": "code",
   "execution_count": null,
   "id": "e3bb80fd22cc546f",
   "metadata": {},
   "outputs": [],
   "source": [
    "import time\n",
    "import random\n",
    "from tqdm import tqdm\n",
    "\n",
    "# Shuffle simulations randomly\n",
    "random.shuffle(simulations)\n",
    "\n",
    "total_experiences = 0\n",
    "with tqdm(simulations, desc=\"Generating experiences\") as pbar:\n",
    "    for simulation in pbar:\n",
    "        # Start timing the encoding process\n",
    "        encode_start_time = time.time()\n",
    "        experiences = exp_encoder.encode(simulation)\n",
    "        encode_end_time = time.time()\n",
    "        encode_time = encode_end_time - encode_start_time\n",
    "\n",
    "        # Start timing the upload process\n",
    "        upload_start_time = time.time()\n",
    "        exp_catalog.add_record_list(experiences)\n",
    "        upload_end_time = time.time()\n",
    "        upload_time = upload_end_time - upload_start_time\n",
    "\n",
    "        total_experiences += len(experiences)\n",
    "\n",
    "        # Update progress bar description with timing information\n",
    "        pbar.set_description(\n",
    "            f\"Generating experiences (Last generated: {len(experiences)}, \"\n",
    "            f\"Total {total_experiences}, Encode time: {encode_time:.2f}s, Upload time: {upload_time:.2f}s)\"\n",
    "        )\n"
   ]
  },
  {
   "cell_type": "code",
   "execution_count": null,
   "id": "9c3a8a33-f3fb-4a78-a60b-eaeb68343afe",
   "metadata": {},
   "outputs": [],
   "source": [
    "print(exp_encoder.encode(simulations[0]))"
   ]
  },
  {
   "cell_type": "code",
   "execution_count": null,
   "id": "99e1948e-b460-42ec-b45e-ea342f44b4a6",
   "metadata": {
    "scrolled": true
   },
   "outputs": [],
   "source": [
    "# Initialize tqdm with detailed postfix for metadata info\n",
    "generator_name=\"CnnExperienceEncoder-v006\"\n",
    "player_count = 2\n",
    "current_player = \"0\"\n",
    "board_size = 4\n",
    "\n",
    "catalog = ExperienceCatalog()\n",
    "dataset_metadata: List[ExperienceMetadata] = catalog.list_datasets()\n",
    "experiences: List[ExperienceData] = []\n",
    "progress_bar = tqdm(dataset_metadata, desc=\"Loading datasets\")\n",
    "\n",
    "for metadata in progress_bar:\n",
    "    # Dynamically set postfix with metadata name and generator name\n",
    "    progress_bar.set_postfix(name=metadata.name, generator=metadata.generator_name)\n",
    "\n",
    "    if (\n",
    "        metadata.player_count == str(player_count)\n",
    "        and metadata.current_player == current_player\n",
    "        and metadata.generator_name == generator_name\n",
    "        and metadata.board_size == str(board_size)\n",
    "    ):\n",
    "        experiences.extend(catalog.load_dataset(metadata))\n",
    "\n",
    "print(f\"Found {len(experiences)} datasets for player_count: {player_count}, and current_player: {current_player}.\")"
   ]
  },
  {
   "cell_type": "code",
   "execution_count": null,
   "id": "3c1d65b1-a21d-4ab4-b048-cd7543aec8b8",
   "metadata": {},
   "outputs": [],
   "source": [
    "class ExperienceAnalysis:\n",
    "\n",
    "    experience: List[ExperienceData]\n",
    "\n",
    "    def __init__(self, experiences: List[ExperienceData]):\n",
    "        self.experiences: List[ExperienceData] = experiences\n",
    "\n",
    "    def print_winner_counts(self):\n",
    "        p0_win_count = len([e for e in self.experiences if e.metadata.winning_player == \"0\"])\n",
    "        p3_win_count = len([e for e in self.experiences if e.metadata.winning_player == \"3\"])\n",
    "        print(f\"p0_win_count {p0_win_count}, p3_win_count {p3_win_count}\")\n",
    "\n",
    "\n",
    "    def check_feature_overlap(self):\n",
    "        # Extract rewards for each player group\n",
    "        win_rewards = [e.data.reward.item() for e in self.experiences if e.metadata.winning_player == \"0\"]\n",
    "        loss_rewards = [e.data.reward.item() for e in self.experiences if e.metadata.winning_player == \"3\"]\n",
    "\n",
    "\n",
    "        plt.figure(figsize=(10, 6))\n",
    "        plt.hist(win_rewards, bins=60, alpha=0.6, color='blue', edgecolor='black', label=\"Winning Game: Moves Rewards\")\n",
    "        plt.hist(loss_rewards, bins=60, alpha=0.6, color='green', edgecolor='black', label=\"Losing Game: Move Rewards\")\n",
    "\n",
    "        plt.title(f\"Overlayed reward distributions for winning and losing move rewards - Encoder {generator_name}\")\n",
    "        plt.xlabel(\"Reward\")\n",
    "        plt.ylabel(\"Frequency\")\n",
    "        plt.legend()\n",
    "        plt.savefig(f'win-loss-rewards-{generator_name}.png')\n",
    "        plt.show()\n",
    "\n",
    "an = ExperienceAnalysis(experiences)\n",
    "an.print_winner_counts()\n",
    "an.check_feature_overlap()"
   ]
  },
  {
   "cell_type": "code",
   "execution_count": null,
   "id": "d00c70b7-861d-432e-96c6-7e6408e869b1",
   "metadata": {},
   "outputs": [],
   "source": []
  }
 ],
 "metadata": {
  "kernelspec": {
   "display_name": "Python 3 (ipykernel)",
   "language": "python",
   "name": "python3"
  },
  "language_info": {
   "codemirror_mode": {
    "name": "ipython",
    "version": 3
   },
   "file_extension": ".py",
   "mimetype": "text/x-python",
   "name": "python",
   "nbconvert_exporter": "python",
   "pygments_lexer": "ipython3",
   "version": "3.12.6"
  }
 },
 "nbformat": 4,
 "nbformat_minor": 5
}
