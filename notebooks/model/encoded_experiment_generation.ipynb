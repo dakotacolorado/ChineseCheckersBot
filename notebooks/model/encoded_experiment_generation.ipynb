{
 "cells": [
  {
   "cell_type": "code",
   "execution_count": 1,
   "id": "initial_id",
   "metadata": {
    "ExecuteTime": {
     "end_time": "2024-11-04T08:40:22.680470Z",
     "start_time": "2024-11-04T08:40:22.677182Z"
    }
   },
   "outputs": [],
   "source": [
    "from typing import List\n",
    "import random\n",
    "\n",
    "\n",
    "from tqdm import tqdm\n",
    "\n",
    "from chinese_checkers.reinforcement.experience import Experience, ExperienceMetadata, ExperienceCatalog\n",
    "from chinese_checkers.reinforcement.dql import DQLAgent, DqlModelValidation\n",
    "from chinese_checkers.simulation import SimulationCatalog, SimulationMetadata, SimulationData"
   ]
  },
  {
   "cell_type": "code",
   "execution_count": 2,
   "id": "ee7434c8-8af0-4f74-a94a-7ebb2807f98d",
   "metadata": {},
   "outputs": [],
   "source": [
    "# import logging\n",
    "# logging.basicConfig(level=logging.DEBUG)"
   ]
  },
  {
   "cell_type": "code",
   "execution_count": 16,
   "id": "5292b10bb2a4fc17",
   "metadata": {
    "ExecuteTime": {
     "end_time": "2024-11-04T08:40:23.262716Z",
     "start_time": "2024-11-04T08:40:23.254592Z"
    }
   },
   "outputs": [
    {
     "data": {
      "text/plain": [
       "[SimulationMetadata(player_count=2, board_size=4, max_game_length=1000, winning_player='0', name='bootstrap-simulation', version='v0.0.1'),\n",
       " SimulationMetadata(player_count=2, board_size=4, max_game_length=1000, winning_player='3', name='bootstrap-simulation', version='v0.0.1'),\n",
       " SimulationMetadata(player_count=2, board_size=4, max_game_length=1000, winning_player='None', name='bad-player-3-bootstrap-simulation', version='v0.0.1'),\n",
       " SimulationMetadata(player_count=2, board_size=4, max_game_length=1000, winning_player='0', name='bad-player-3-bootstrap-simulation', version='v0.0.1'),\n",
       " SimulationMetadata(player_count=2, board_size=4, max_game_length=1000, winning_player='3', name='bad-player-3-bootstrap-simulation', version='v0.0.1')]"
      ]
     },
     "execution_count": 16,
     "metadata": {},
     "output_type": "execute_result"
    }
   ],
   "source": [
    "sim_catalog = SimulationCatalog()\n",
    "sim_metadata: List[SimulationMetadata] = sim_catalog.list_datasets()\n",
    "sim_metadata"
   ]
  },
  {
   "cell_type": "code",
   "execution_count": 17,
   "id": "d89559c0773e00aa",
   "metadata": {
    "ExecuteTime": {
     "end_time": "2024-11-04T08:40:27.074256Z",
     "start_time": "2024-11-04T08:40:24.630085Z"
    }
   },
   "outputs": [
    {
     "name": "stdout",
     "output_type": "stream",
     "text": [
      "Found 2167 datasets for winning_players: ['0', '3'] and player_count: 2.\n"
     ]
    }
   ],
   "source": [
    "winning_players = [\"0\", \"3\"]\n",
    "player_count = 2\n",
    "\n",
    "simulations: List[SimulationData] = [\n",
    "    dataset\n",
    "    for metadata in sim_metadata\n",
    "    if metadata.winning_player in winning_players\n",
    "        and metadata.player_count == player_count\n",
    "    for dataset in sim_catalog.load_dataset(metadata)\n",
    "]\n",
    "print(f\"Found {len(simulations)} datasets for winning_players: {winning_players} and player_count: {player_count}.\")"
   ]
  },
  {
   "cell_type": "code",
   "execution_count": 18,
   "id": "f4311412-d8f1-4730-ad91-c58c6511b048",
   "metadata": {},
   "outputs": [
    {
     "data": {
      "text/plain": [
       "[ExperienceMetadata(player_count='2', board_size='4', max_game_length='1000', winning_player='0', name='bootstrap-simulation', version='v0.0.1', generator_name='v0.0.1', current_player='0'),\n",
       " ExperienceMetadata(player_count='2', board_size='4', max_game_length='1000', winning_player='0', name='bootstrap-simulation', version='v0.0.1', generator_name='v0.0.1', current_player='3'),\n",
       " ExperienceMetadata(player_count='2', board_size='4', max_game_length='1000', winning_player='3', name='bootstrap-simulation', version='v0.0.1', generator_name='v0.0.1', current_player='0'),\n",
       " ExperienceMetadata(player_count='2', board_size='4', max_game_length='1000', winning_player='3', name='bootstrap-simulation', version='v0.0.1', generator_name='v0.0.1', current_player='3'),\n",
       " ExperienceMetadata(player_count='2', board_size='4', max_game_length='1000', winning_player='0', name='bad-player-3-bootstrap-simulation', version='v0.0.1', generator_name='v0.0.1', current_player='0'),\n",
       " ExperienceMetadata(player_count='2', board_size='4', max_game_length='1000', winning_player='0', name='bad-player-3-bootstrap-simulation', version='v0.0.1', generator_name='v0.0.1', current_player='3')]"
      ]
     },
     "execution_count": 18,
     "metadata": {},
     "output_type": "execute_result"
    }
   ],
   "source": [
    "exp_catalog = ExperienceCatalog()\n",
    "exp_catalog.list_datasets()"
   ]
  },
  {
   "cell_type": "code",
   "execution_count": null,
   "id": "801d4a9415685cce",
   "metadata": {
    "ExecuteTime": {
     "end_time": "2024-11-04T08:40:27.786695Z",
     "start_time": "2024-11-04T08:40:27.655211Z"
    }
   },
   "outputs": [
    {
     "name": "stderr",
     "output_type": "stream",
     "text": [
      "Generating experiences (Last generated: 341 experiences):  31%|███▏      | 678/2167 [12:33:40<12:40:17, 30.64s/it]    "
     ]
    }
   ],
   "source": [
    "random.shuffle(simulations)\n",
    "with tqdm(simulations, desc=\"Generating experiences\") as pbar:\n",
    "    for simulation in pbar:\n",
    "        experiences = Experience.generate_experiences_from_simulation(\n",
    "            simulation,\n",
    "            generator_name=\"v0.0.1\"\n",
    "        )\n",
    "        exp_catalog.add_record_list(experiences)\n",
    "        pbar.set_description(f\"Generating experiences (Last generated: {len(experiences)} experiences)\")\n"
   ]
  },
  {
   "cell_type": "code",
   "execution_count": null,
   "id": "269ffb134ed8f8f8",
   "metadata": {},
   "outputs": [],
   "source": [
    "exp_metadata: List[ExperienceMetadata] = exp_catalog.list_datasets()\n",
    "exp_metadata"
   ]
  },
  {
   "cell_type": "code",
   "execution_count": null,
   "id": "e1035db6a7a5df54",
   "metadata": {},
   "outputs": [],
   "source": [
    "experiences: List[Experience] = [\n",
    "    dataset\n",
    "    for metadata in exp_metadata\n",
    "    if metadata.winning_player in winning_players\n",
    "        and metadata.player_count == str(player_count)\n",
    "    for dataset in exp_catalog.load_dataset(metadata)\n",
    "]\n",
    "print(f\"Found {len(experiences)} datasets for winning_players: {winning_players} and player_count: {player_count}.\")"
   ]
  },
  {
   "cell_type": "code",
   "execution_count": null,
   "id": "8dda669efa9c39df",
   "metadata": {},
   "outputs": [],
   "source": []
  }
 ],
 "metadata": {
  "kernelspec": {
   "display_name": "Python 3 (ipykernel)",
   "language": "python",
   "name": "python3"
  },
  "language_info": {
   "codemirror_mode": {
    "name": "ipython",
    "version": 3
   },
   "file_extension": ".py",
   "mimetype": "text/x-python",
   "name": "python",
   "nbconvert_exporter": "python",
   "pygments_lexer": "ipython3",
   "version": "3.12.6"
  }
 },
 "nbformat": 4,
 "nbformat_minor": 5
}
