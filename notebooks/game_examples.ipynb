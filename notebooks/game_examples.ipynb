{
 "cells": [
  {
   "cell_type": "code",
   "metadata": {},
   "source": [
    "from chinese_checkers.simulation.SimulationData import SimulationData\n",
    "from chinese_checkers.simulation.SimulationMetadata import SimulationMetadata\n",
    "from src.chinese_checkers.game.ChineseCheckersGame import ChineseCheckersGame\n",
    "from src.chinese_checkers.geometry.Printer import Printer\n",
    "from src.chinese_checkers.simulation.GameSimulation import GameSimulation\n",
    "from src.chinese_checkers.model.BootstrapModel import BootstrapModel\n",
    "from src.chinese_checkers.simulation.GameSimulationCatalog import GameSimulationCatalog"
   ],
   "outputs": [],
   "execution_count": null
  },
  {
   "cell_type": "markdown",
   "metadata": {
    "ExecuteTime": {
     "end_time": "2023-10-16T06:13:12.054092700Z",
     "start_time": "2023-10-16T06:13:11.284391600Z"
    },
    "collapsed": false,
    "jupyter": {
     "outputs_hidden": false
    }
   },
   "source": [
    "---\n",
    "\n",
    "### Sample target positions"
   ]
  },
  {
   "cell_type": "code",
   "metadata": {
    "collapsed": false,
    "jupyter": {
     "outputs_hidden": false
    }
   },
   "source": [
    "# set up the game\n",
    "printer = Printer(plot_size=10, show_coordinates=True)\n",
    "game = ChineseCheckersGame.start_game(3)\n",
    "\n",
    "printer.print(\n",
    "    game.board.hexagram_points,\n",
    "    game.players[1].positions,\n",
    "    game.players[1].target_positions\n",
    ")"
   ],
   "outputs": [],
   "execution_count": null
  },
  {
   "cell_type": "markdown",
   "metadata": {
    "ExecuteTime": {
     "end_time": "2023-10-16T06:14:32.229241400Z",
     "start_time": "2023-10-16T06:14:22.252232Z"
    },
    "collapsed": false,
    "jupyter": {
     "outputs_hidden": false
    }
   },
   "source": [
    "---\n",
    "### Simulate a game between two centroid models"
   ]
  },
  {
   "cell_type": "code",
   "metadata": {
    "collapsed": false,
    "jupyter": {
     "outputs_hidden": false
    }
   },
   "source": [
    "model_1 = BootstrapModel()\n",
    "model_2 = BootstrapModel()\n",
    "game_simulation = GameSimulation.simulate_game(\n",
    "    models=[model_1, model_2],\n",
    "    name=\"bootstrap-simulation\",\n",
    "    version=\"v0.0.1\",\n",
    "    print_period=100,\n",
    "    show_coordinates=True\n",
    ")\n",
    "game_metadata: SimulationMetadata = game_simulation.metadata\n",
    "game_data: SimulationData = game_simulation.data"
   ],
   "outputs": [],
   "execution_count": null
  },
  {
   "metadata": {},
   "cell_type": "code",
   "source": "game_simulation.display()",
   "outputs": [],
   "execution_count": null
  },
  {
   "metadata": {},
   "cell_type": "code",
   "source": "game_simulation.save_animation()",
   "outputs": [],
   "execution_count": null
  },
  {
   "cell_type": "markdown",
   "metadata": {
    "collapsed": false,
    "jupyter": {
     "outputs_hidden": false
    }
   },
   "source": [
    "---\n",
    "### Generate a Training Data from the Bootstrap Model"
   ]
  },
  {
   "cell_type": "code",
   "metadata": {
    "collapsed": false,
    "jupyter": {
     "outputs_hidden": false
    }
   },
   "source": "catalog = GameSimulationCatalog(\"D:/chinese_checkers_games\")",
   "outputs": [],
   "execution_count": null
  },
  {
   "cell_type": "code",
   "metadata": {
    "collapsed": false,
    "jupyter": {
     "outputs_hidden": false
    }
   },
   "source": [
    "for game_number in range(1000):\n",
    "    try:\n",
    "        game_simulation = GameSimulation.simulate_game(\n",
    "            models=[model_1, model_2],\n",
    "            name=\"bootstrap-simulation\",\n",
    "            version=\"v0.0.1\"\n",
    "        )\n",
    "        game_metadata: SimulationMetadata = game_simulation.metadata\n",
    "        game_data: SimulationData = game_simulation.data\n",
    "\n",
    "        winner_id = game_metadata.winning_player\n",
    "        print(f\"Game Number {game_number}, Winner {winner_id}\")\n",
    "\n",
    "        catalog.save_simulation(game_simulation)\n",
    "\n",
    "    except Exception as e:\n",
    "        print(f\"Game Number {game_number} not completed due to error: {e}\")"
   ],
   "outputs": [
    {
     "name": "stdout",
     "output_type": "stream",
     "text": [
      "Game Number 74, Winner None\n",
      "Game Number 75, Winner None\n",
      "Game Number 76 not completed due to error: No viable move found\n",
      "Game Number 77, Winner None\n",
      "Game Number 78 not completed due to error: No viable move found\n",
      "Game Number 79, Winner None\n",
      "Game Number 80, Winner None\n",
      "Game Number 81, Winner None\n",
      "Game Number 82, Winner None\n"
     ]
    }
   ],
   "execution_count": null
  },
  {
   "cell_type": "code",
   "metadata": {
    "collapsed": false,
    "jupyter": {
     "outputs_hidden": false
    }
   },
   "source": [
    "metadata_list = catalog.list_available_metadata()\n",
    "\n",
    "for metadata in metadata_list:\n",
    "    simulations = list(catalog.load_simulations_by_metadata(metadata))\n",
    "    print(f\"Metadata {metadata}, Simulation Count {len(simulations)}\")\n",
    "    \n",
    "    display(simulations[4].display(sample_period=10))"
   ],
   "outputs": [],
   "execution_count": null
  },
  {
   "metadata": {},
   "cell_type": "code",
   "source": "",
   "outputs": [],
   "execution_count": null
  }
 ],
 "metadata": {
  "kernelspec": {
   "display_name": "Python 3 (ipykernel)",
   "language": "python",
   "name": "python3"
  },
  "language_info": {
   "codemirror_mode": {
    "name": "ipython",
    "version": 3
   },
   "file_extension": ".py",
   "mimetype": "text/x-python",
   "name": "python",
   "nbconvert_exporter": "python",
   "pygments_lexer": "ipython3",
   "version": "3.12.6"
  }
 },
 "nbformat": 4,
 "nbformat_minor": 4
}
