{
 "cells": [
  {
   "cell_type": "code",
   "execution_count": 1,
   "id": "initial_id",
   "metadata": {
    "ExecuteTime": {
     "end_time": "2024-11-12T08:14:20.781169Z",
     "start_time": "2024-11-12T08:14:18.186634Z"
    }
   },
   "outputs": [],
   "source": [
    "from chinese_checkers.experience import ExperienceData, ExperienceMetadata, Experience, S3ExperienceCatalog, ExperienceCatalog"
   ]
  },
  {
   "cell_type": "markdown",
   "id": "1cf49921-30d3-459d-b15a-09fc199e1ffa",
   "metadata": {},
   "source": [
    "### Experiences"
   ]
  },
  {
   "cell_type": "code",
   "execution_count": 2,
   "id": "df7b574960c66d7d",
   "metadata": {},
   "outputs": [
    {
     "data": {
      "text/plain": [
       "ExperienceMetadata(player_count='2', board_size='4', max_game_length='1000', winning_player='0', name='bootstrap-simulation', version='v0.0.1', generator_name='CnnExperienceEncoder-v003', current_player='0')"
      ]
     },
     "execution_count": 2,
     "metadata": {},
     "output_type": "execute_result"
    }
   ],
   "source": [
    "local_cat = ExperienceCatalog()\n",
    "metadata = [m for m in local_cat.list_datasets() if m.generator_name == \"CnnExperienceEncoder-v003\"]\n",
    "metadata[0]"
   ]
  },
  {
   "cell_type": "code",
   "execution_count": 3,
   "id": "320af95bd7dd7ee6",
   "metadata": {},
   "outputs": [
    {
     "data": {
      "text/plain": [
       "[]"
      ]
     },
     "execution_count": 3,
     "metadata": {},
     "output_type": "execute_result"
    }
   ],
   "source": [
    "s3_cat = S3ExperienceCatalog(batch_size=1)\n",
    "s3_cat.list_datasets()"
   ]
  },
  {
   "cell_type": "code",
   "execution_count": 14,
   "id": "a250eee30f3258d6",
   "metadata": {},
   "outputs": [
    {
     "name": "stdout",
     "output_type": "stream",
     "text": [
      "8007\n"
     ]
    }
   ],
   "source": [
    "data = local_cat.load_dataset(metadata[0])\n",
    "print(len(data))"
   ]
  },
  {
   "cell_type": "code",
   "execution_count": 15,
   "id": "cb5554b02bb79c2c",
   "metadata": {},
   "outputs": [],
   "source": [
    "s3_cat.add_record(data[1])"
   ]
  },
  {
   "cell_type": "code",
   "execution_count": 16,
   "id": "9f979c2580e6cf96",
   "metadata": {},
   "outputs": [
    {
     "data": {
      "text/plain": [
       "ExperienceMetadata(player_count='2', board_size='4', max_game_length='1000', winning_player='0', name='bootstrap-simulation', version='v0.0.1', generator_name='CnnExperienceEncoder-v003', current_player='0')"
      ]
     },
     "execution_count": 16,
     "metadata": {},
     "output_type": "execute_result"
    }
   ],
   "source": [
    "metadata_s3 = s3_cat.list_datasets()\n",
    "metadata_s3[0]"
   ]
  },
  {
   "cell_type": "code",
   "execution_count": 17,
   "id": "e258d760-7e6e-4a06-81ca-cd3ecadcd46b",
   "metadata": {},
   "outputs": [
    {
     "name": "stdout",
     "output_type": "stream",
     "text": [
      "2\n"
     ]
    }
   ],
   "source": [
    "data_s3 = s3_cat.load_dataset(metadata_s3[0])\n",
    "print(len(data_s3))"
   ]
  },
  {
   "cell_type": "code",
   "execution_count": 20,
   "id": "e51219f3-2a6c-4637-bfcf-991a96516925",
   "metadata": {},
   "outputs": [
    {
     "data": {
      "text/plain": [
       "True"
      ]
     },
     "execution_count": 20,
     "metadata": {},
     "output_type": "execute_result"
    }
   ],
   "source": [
    "import torch\n",
    "\n",
    "def experience_eq(exp1, exp2):\n",
    "    return (\n",
    "        torch.equal(exp1.data.state, exp2.data.state) and\n",
    "        torch.equal(exp1.data.action, exp2.data.action) and\n",
    "        torch.equal(exp1.data.reward, exp2.data.reward) and\n",
    "        torch.equal(exp1.data.next_state, exp2.data.next_state) and\n",
    "        torch.equal(exp1.data.done, exp2.data.done) and\n",
    "        exp1.metadata == exp2.metadata\n",
    "    )\n",
    "\n",
    "# Usage\n",
    "experience_eq(data_s3[1], data[0])\n"
   ]
  },
  {
   "cell_type": "code",
   "execution_count": 9,
   "id": "20dbc323-8092-4c80-a63e-99b482bfcf21",
   "metadata": {},
   "outputs": [
    {
     "name": "stdout",
     "output_type": "stream",
     "text": [
      "Experiences are equal.\n"
     ]
    },
    {
     "data": {
      "text/plain": [
       "True"
      ]
     },
     "execution_count": 9,
     "metadata": {},
     "output_type": "execute_result"
    }
   ],
   "source": [
    "import torch\n",
    "\n",
    "import torch\n",
    "\n",
    "def detailed_experience_comparison(exp1: Experience, exp2: Experience) -> bool:\n",
    "    differences = []\n",
    "\n",
    "    # Compare state tensors\n",
    "    if not torch.equal(exp1.data.state, exp2.data.state):\n",
    "        differences.append('State tensors differ.')\n",
    "        print('State tensor difference:')\n",
    "        print('exp1.data.state:', exp1.data.state)\n",
    "        print('exp2.data.state:', exp2.data.state)\n",
    "\n",
    "    # Compare action tensors\n",
    "    if not torch.equal(exp1.data.action, exp2.data.action):\n",
    "        differences.append('Action tensors differ.')\n",
    "        print('Action tensor difference:')\n",
    "        print('exp1.data.action:', exp1.data.action)\n",
    "        print('exp2.data.action:', exp2.data.action)\n",
    "\n",
    "    # Compare reward tensors\n",
    "    if not torch.equal(exp1.data.reward, exp2.data.reward):\n",
    "        differences.append('Reward tensors differ.')\n",
    "        print('Reward tensor difference:')\n",
    "        print('exp1.data.reward:', exp1.data.reward)\n",
    "        print('exp2.data.reward:', exp2.data.reward)\n",
    "        print('Reward tensor shapes:', exp1.data.reward.shape, exp2.data.reward.shape)\n",
    "        print('Reward tensor dtypes:', exp1.data.reward.dtype, exp2.data.reward.dtype)\n",
    "\n",
    "    # Compare next_state tensors\n",
    "    if not torch.equal(exp1.data.next_state, exp2.data.next_state):\n",
    "        differences.append('Next state tensors differ.')\n",
    "        print('Next state tensor difference:')\n",
    "        print('exp1.data.next_state:', exp1.data.next_state)\n",
    "        print('exp2.data.next_state:', exp2.data.next_state)\n",
    "\n",
    "    # Compare done tensors\n",
    "    if not torch.equal(exp1.data.done, exp2.data.done):\n",
    "        differences.append('Done tensors differ.')\n",
    "        print('Done tensor difference:')\n",
    "        print('exp1.data.done:', exp1.data.done)\n",
    "        print('exp2.data.done:', exp2.data.done)\n",
    "        print('Done tensor shapes:', exp1.data.done.shape, exp2.data.done.shape)\n",
    "        print('Done tensor dtypes:', exp1.data.done.dtype, exp2.data.done.dtype)\n",
    "\n",
    "    # Compare metadata\n",
    "    if exp1.metadata != exp2.metadata:\n",
    "        differences.append('Metadata differ.')\n",
    "        print('Metadata difference:')\n",
    "        print('exp1.metadata:', exp1.metadata)\n",
    "        print('exp2.metadata:', exp2.metadata)\n",
    "\n",
    "    if differences:\n",
    "        print(\"\\nDifferences found:\")\n",
    "        for diff in differences:\n",
    "            print(diff)\n",
    "        return False\n",
    "    else:\n",
    "        print(\"Experiences are equal.\")\n",
    "        return True\n",
    "\n",
    "\n",
    "\n",
    "\n",
    "detailed_experience_comparison(data[0], data_s3[0])\n"
   ]
  },
  {
   "cell_type": "markdown",
   "id": "fcdb04cc-4412-4178-ac5e-3e5374ed963e",
   "metadata": {},
   "source": [
    "### Simulations"
   ]
  },
  {
   "cell_type": "code",
   "execution_count": null,
   "id": "8da1038a-15e6-4852-8cf3-37298a69ac83",
   "metadata": {},
   "outputs": [],
   "source": [
    "from chinese_checkers.simulation import SimulationData, SimulationMetadata, GameSimulation, S3SimulationCatalog, SimulationCatalog"
   ]
  },
  {
   "cell_type": "code",
   "execution_count": null,
   "id": "26f43129-eac0-4e5b-b92e-3ea50e3e0516",
   "metadata": {},
   "outputs": [],
   "source": [
    "local_cat = SimulationCatalog()\n",
    "metadata = local_cat.list_datasets() \n",
    "metadata"
   ]
  },
  {
   "cell_type": "code",
   "execution_count": null,
   "id": "23c8e6f5-2cf5-42cf-9dde-2cb6a2b7a0dd",
   "metadata": {},
   "outputs": [],
   "source": [
    "s3_cat = S3SimulationCatalog(batch_size=10000)\n",
    "s3_cat.list_datasets()"
   ]
  },
  {
   "cell_type": "code",
   "execution_count": null,
   "id": "cd3a838c-747a-46d6-8c7d-7dcab1bf513e",
   "metadata": {},
   "outputs": [],
   "source": [
    "for md in metadata:\n",
    "    data = local_cat.load_dataset(md)\n",
    "    s3_cat.add_record_list(data)"
   ]
  },
  {
   "cell_type": "code",
   "execution_count": null,
   "id": "ddf2bb61-22ee-4464-8460-f46d23cd8ade",
   "metadata": {},
   "outputs": [],
   "source": [
    "s3_cat.add_record_list(data)\n",
    "# s3_cat.flush()\n",
    "print(len(s3_cat.batch_data))"
   ]
  },
  {
   "cell_type": "code",
   "execution_count": null,
   "id": "4ec0b1a8-990f-4031-acdf-f1411b079d24",
   "metadata": {},
   "outputs": [],
   "source": [
    "metadata_s3 = s3_cat.list_datasets()\n",
    "metadata_s3[0]"
   ]
  },
  {
   "cell_type": "code",
   "execution_count": null,
   "id": "62c4f95f-78b9-428e-a40f-50d3a2279209",
   "metadata": {},
   "outputs": [],
   "source": [
    "data_s3 = s3_cat.load_dataset(metadata_s3[0])"
   ]
  },
  {
   "cell_type": "code",
   "execution_count": null,
   "id": "59f3a500-d56e-4f8f-8854-1eb42c15d25e",
   "metadata": {},
   "outputs": [],
   "source": [
    "len(data_s3)"
   ]
  },
  {
   "cell_type": "code",
   "execution_count": null,
   "id": "335a825c-7202-4237-819d-ed44a466ae49",
   "metadata": {},
   "outputs": [],
   "source": [
    "data_s3[0] == data[0]"
   ]
  },
  {
   "cell_type": "code",
   "execution_count": null,
   "id": "db5cf4f8-e3b5-4f6e-8c28-4af788d3ec7e",
   "metadata": {},
   "outputs": [],
   "source": [
    "len(data_s3) > 1"
   ]
  },
  {
   "cell_type": "code",
   "execution_count": null,
   "id": "edb78ff0-0b4d-4b8a-9f6a-4f722b89024c",
   "metadata": {},
   "outputs": [],
   "source": [
    "data_s3[0].to_game_sequence()[0].print()"
   ]
  },
  {
   "cell_type": "code",
   "execution_count": null,
   "id": "928ec8bb-1035-495b-85ac-7f292f938eb2",
   "metadata": {},
   "outputs": [],
   "source": []
  }
 ],
 "metadata": {
  "kernelspec": {
   "display_name": "Python 3 (ipykernel)",
   "language": "python",
   "name": "python3"
  },
  "language_info": {
   "codemirror_mode": {
    "name": "ipython",
    "version": 3
   },
   "file_extension": ".py",
   "mimetype": "text/x-python",
   "name": "python",
   "nbconvert_exporter": "python",
   "pygments_lexer": "ipython3",
   "version": "3.12.6"
  }
 },
 "nbformat": 4,
 "nbformat_minor": 5
}
