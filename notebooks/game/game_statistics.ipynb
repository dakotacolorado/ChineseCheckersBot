{
 "cells": [
  {
   "cell_type": "code",
   "id": "4a29391b-df33-4a0e-b87c-cdfe015b4e90",
   "metadata": {
    "ExecuteTime": {
     "end_time": "2024-11-09T06:08:15.528094Z",
     "start_time": "2024-11-09T06:08:14.705303Z"
    }
   },
   "source": [
    "from chinese_checkers.simulation import SimulationCatalog, GameSimulation, SimulationMetadata\n",
    "\n",
    "from typing import List\n",
    "\n",
    "import pandas as pd\n",
    "from tqdm import tqdm\n",
    "from collections import Counter"
   ],
   "outputs": [],
   "execution_count": 1
  },
  {
   "cell_type": "code",
   "id": "dcad4220-a629-4265-be61-50f2339d7dd1",
   "metadata": {
    "jupyter": {
     "is_executing": true
    },
    "ExecuteTime": {
     "start_time": "2024-11-09T06:08:16.107797Z"
    }
   },
   "source": [
    "# filter to only 2 player games on a size 4 board\n",
    "catalog = SimulationCatalog()\n",
    "metadata_list: List[SimulationMetadata] = [\n",
    "    m\n",
    "    for m in catalog.list_available_metadata()\n",
    "    if m.player_count == 2 and m.board_size == 4\n",
    "]\n",
    "\n",
    "for meta in metadata_list:\n",
    "    print(meta)"
   ],
   "outputs": [],
   "execution_count": null
  },
  {
   "cell_type": "code",
   "id": "be49e1cd-b6c3-4646-bb12-9207c130d95f",
   "metadata": {},
   "source": [
    "simulations: List[GameSimulation] = []\n",
    "\n",
    "with tqdm(metadata_list, desc=\"Loading Simulations\") as progress_bar:\n",
    "    for metadata in progress_bar:\n",
    "        simulations += list(catalog.load_simulations_by_metadata(metadata))\n",
    "        progress_bar.set_postfix({\"Simulation Count\": len(simulations)})\n",
    "\n",
    "print(\"All simulations loaded.\")"
   ],
   "outputs": [],
   "execution_count": null
  },
  {
   "cell_type": "code",
   "id": "ebd15291-c702-48bb-b357-ab497c1bac14",
   "metadata": {},
   "source": [
    "# compute the summary statistics for the simulations\n",
    "data = []\n",
    "for sim in simulations:\n",
    "    metadata: SimulationMetadata = sim.metadata\n",
    "    data.append({\n",
    "        \"name\": metadata.name,\n",
    "        \"version\": metadata.version,\n",
    "        \"winning_player\": metadata.winning_player,\n",
    "        \"game_length\": len(sim.data.historical_moves)\n",
    "    })\n",
    "\n",
    "simulations_df = pd.DataFrame(data)\n",
    "\n",
    "summary_df = simulations_df.groupby([\"name\", \"version\", \"winning_player\"]).agg(\n",
    "    game_count=(\"winning_player\", \"size\"),\n",
    "    avg_game_length=(\"game_length\", \"mean\"),\n",
    "    min_game_length=(\"game_length\", \"min\"),\n",
    "    max_game_length=(\"game_length\", \"max\"),\n",
    ").reset_index()\n",
    "\n",
    "metadata_summary_df = simulations_df.groupby([\"name\", \"version\"]).agg(\n",
    "    total_games=(\"winning_player\", \"size\"),\n",
    "    winning_player_counts=(\"winning_player\", lambda x: Counter(x))\n",
    ").reset_index()\n",
    "\n",
    "full_summary_df = pd.merge(summary_df, metadata_summary_df, on=[\"name\", \"version\"])\n",
    "full_summary_df"
   ],
   "outputs": [],
   "execution_count": null
  },
  {
   "metadata": {},
   "cell_type": "code",
   "source": [
    "import pandas as pd\n",
    "import matplotlib.pyplot as plt\n",
    "from collections import Counter\n",
    "\n",
    "all_moves = []\n",
    "for sim in simulations:\n",
    "    all_moves.extend(sim.data.historical_moves)\n",
    "\n",
    "move_counts = Counter(all_moves)\n",
    "\n",
    "move_df = pd.DataFrame(list(move_counts.items()), columns=[\"move\", \"count\"])\n",
    "\n",
    "total_moves = len(all_moves)\n",
    "unique_moves = move_df[move_df[\"count\"] == 1].shape[0]\n",
    "duplicate_moves = move_df[move_df[\"count\"] > 1].shape[0]\n",
    "max_duplicate_count = move_df[\"count\"].max()\n",
    "mean_duplicate_count = move_df[move_df[\"count\"] > 1][\"count\"].mean()\n",
    "\n",
    "summary_stats = {\n",
    "    \"total_moves\": total_moves,\n",
    "    \"unique_moves\": unique_moves,\n",
    "    \"duplicate_moves\": duplicate_moves,\n",
    "    \"max_duplicate_count\": max_duplicate_count,\n",
    "    \"mean_duplicate_count\": mean_duplicate_count,\n",
    "}\n",
    "summary_df = pd.DataFrame([summary_stats])\n",
    "\n",
    "print(summary_df)\n",
    "\n",
    "plt.figure(figsize=(10, 6))\n",
    "move_df[move_df[\"count\"] > 1][\"count\"].plot(kind=\"hist\", bins=200, edgecolor=\"black\")\n",
    "plt.title(\"Distribution of Duplicate Move Counts\")\n",
    "plt.xlabel(\"Duplicate Count\")\n",
    "plt.ylabel(\"Frequency\")\n",
    "plt.show()\n"
   ],
   "id": "6364c4da97f3f32d",
   "outputs": [],
   "execution_count": null
  },
  {
   "metadata": {},
   "cell_type": "code",
   "source": "",
   "id": "7f6b1fd12c568b44",
   "outputs": [],
   "execution_count": null
  }
 ],
 "metadata": {
  "kernelspec": {
   "display_name": "Python 3 (ipykernel)",
   "language": "python",
   "name": "python3"
  },
  "language_info": {
   "codemirror_mode": {
    "name": "ipython",
    "version": 3
   },
   "file_extension": ".py",
   "mimetype": "text/x-python",
   "name": "python",
   "nbconvert_exporter": "python",
   "pygments_lexer": "ipython3",
   "version": "3.12.6"
  }
 },
 "nbformat": 4,
 "nbformat_minor": 5
}
