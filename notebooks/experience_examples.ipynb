{
 "cells": [
  {
   "cell_type": "code",
   "id": "initial_id",
   "metadata": {
    "collapsed": true,
    "ExecuteTime": {
     "end_time": "2024-11-03T00:25:39.904967Z",
     "start_time": "2024-11-03T00:25:39.901815Z"
    }
   },
   "source": [
    "from src.chinese_checkers.experience import Experience, ExperienceGenerator, IRewardStrategy, RewardStrategyFactory\n",
    "from src.chinese_checkers.simulation import GameSimulationCatalog\n",
    "\n",
    "from typing import List\n"
   ],
   "outputs": [],
   "execution_count": 7
  },
  {
   "metadata": {},
   "cell_type": "markdown",
   "source": [
    "# Experience Module Examples\n",
    "\n",
    "---\n",
    "\n",
    "## Example 1: Load a simulation and generate experiences using the distance to win reward strategy"
   ],
   "id": "2d25c9ae28f1d34"
  },
  {
   "metadata": {
    "ExecuteTime": {
     "end_time": "2024-11-03T00:23:57.507290Z",
     "start_time": "2024-11-03T00:23:57.468469Z"
    }
   },
   "cell_type": "code",
   "source": [
    "# load in some past games\n",
    "catalog = GameSimulationCatalog(\"D:/chinese_checkers_games\")\n",
    "metadata_list = catalog.list_available_metadata()\n",
    "simulations = list(catalog.load_simulations_by_metadata(metadata_list[0]))\n",
    "print(f\"Loaded {len(simulations)} simulations\")"
   ],
   "id": "940ca42873cf46fb",
   "outputs": [
    {
     "name": "stdout",
     "output_type": "stream",
     "text": [
      "Loaded 23 simulations\n"
     ]
    }
   ],
   "execution_count": 3
  },
  {
   "metadata": {
    "ExecuteTime": {
     "end_time": "2024-11-03T00:23:57.632332Z",
     "start_time": "2024-11-03T00:23:57.629184Z"
    }
   },
   "cell_type": "code",
   "source": [
    "# use the distance to win reward strategy\n",
    "reward_strategy: IRewardStrategy = RewardStrategyFactory.create(\"distance_to_win\")\n",
    "experience_generator = ExperienceGenerator(reward_strategy)"
   ],
   "id": "d6de0506a7af0497",
   "outputs": [],
   "execution_count": 4
  },
  {
   "metadata": {
    "ExecuteTime": {
     "end_time": "2024-11-03T00:24:33.013668Z",
     "start_time": "2024-11-03T00:24:32.874848Z"
    }
   },
   "cell_type": "code",
   "source": [
    "# create new experiences from the simulations\n",
    "experiences: List[Experience] = [\n",
    "    exper \n",
    "    for sim in simulations\n",
    "    for exper in experience_generator.generate_experiences_from_simulation(sim)\n",
    "]\n",
    "for e in experiences[:4]:\n",
    "    print(e)"
   ],
   "id": "a339bbd4b5b093bc",
   "outputs": [
    {
     "name": "stdout",
     "output_type": "stream",
     "text": [
      "Experience(state=<src.chinese_checkers.game.ChineseCheckersGame.ChineseCheckersGame object at 0x00000260B4EFEC00>, action=Move(-2, 0), Position(4, 2), reward=-0.0036101083032490976, next_state=<src.chinese_checkers.game.ChineseCheckersGame.ChineseCheckersGame object at 0x00000260B4FBCA70>, done=False)\n",
      "Experience(state=<src.chinese_checkers.game.ChineseCheckersGame.ChineseCheckersGame object at 0x00000260B4FBCA70>, action=Move(2, 0), Position(-4, -2), reward=-0.007220216606498195, next_state=<src.chinese_checkers.game.ChineseCheckersGame.ChineseCheckersGame object at 0x00000260B4FBDF70>, done=False)\n",
      "Experience(state=<src.chinese_checkers.game.ChineseCheckersGame.ChineseCheckersGame object at 0x00000260B4FBDF70>, action=Move(0, -2), Position(2, 3), reward=-0.010830324909747292, next_state=<src.chinese_checkers.game.ChineseCheckersGame.ChineseCheckersGame object at 0x00000260B4FBE210>, done=False)\n",
      "Experience(state=<src.chinese_checkers.game.ChineseCheckersGame.ChineseCheckersGame object at 0x00000260B4FBE210>, action=Move(1, 0), Position(-2, -2), reward=-0.01444043321299639, next_state=<src.chinese_checkers.game.ChineseCheckersGame.ChineseCheckersGame object at 0x00000260B4FBDCD0>, done=False)\n"
     ]
    }
   ],
   "execution_count": 6
  }
 ],
 "metadata": {
  "kernelspec": {
   "display_name": "Python 3",
   "language": "python",
   "name": "python3"
  },
  "language_info": {
   "codemirror_mode": {
    "name": "ipython",
    "version": 2
   },
   "file_extension": ".py",
   "mimetype": "text/x-python",
   "name": "python",
   "nbconvert_exporter": "python",
   "pygments_lexer": "ipython2",
   "version": "2.7.6"
  }
 },
 "nbformat": 4,
 "nbformat_minor": 5
}
