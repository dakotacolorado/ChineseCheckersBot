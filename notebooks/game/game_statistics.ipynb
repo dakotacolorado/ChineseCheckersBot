{
 "cells": [
  {
   "cell_type": "code",
   "execution_count": 2,
   "id": "4a29391b-df33-4a0e-b87c-cdfe015b4e90",
   "metadata": {
    "ExecuteTime": {
     "start_time": "2024-11-16T09:55:48.478725Z"
    },
    "jupyter": {
     "is_executing": true
    }
   },
   "outputs": [],
   "source": [
    "from chinese_checkers.game import ChineseCheckersGame\n",
    "from chinese_checkers.simulation import S3SimulationCatalog, GameSimulation, SimulationMetadata\n",
    "from chinese_checkers.geometry import Printer\n",
    "\n",
    "from dataclasses import asdict\n",
    "\n",
    "\n",
    "from typing import List\n",
    "\n",
    "import pandas as pd\n",
    "from tqdm import tqdm\n",
    "from collections import Counter"
   ]
  },
  {
   "cell_type": "code",
   "execution_count": 3,
   "id": "dcad4220-a629-4265-be61-50f2339d7dd1",
   "metadata": {
    "ExecuteTime": {
     "end_time": "2024-11-16T08:37:01.355452Z",
     "start_time": "2024-11-16T08:37:00.820963Z"
    }
   },
   "outputs": [
    {
     "data": {
      "text/html": [
       "<div>\n",
       "<style scoped>\n",
       "    .dataframe tbody tr th:only-of-type {\n",
       "        vertical-align: middle;\n",
       "    }\n",
       "\n",
       "    .dataframe tbody tr th {\n",
       "        vertical-align: top;\n",
       "    }\n",
       "\n",
       "    .dataframe thead th {\n",
       "        text-align: right;\n",
       "    }\n",
       "</style>\n",
       "<table border=\"1\" class=\"dataframe\">\n",
       "  <thead>\n",
       "    <tr style=\"text-align: right;\">\n",
       "      <th></th>\n",
       "      <th>player_count</th>\n",
       "      <th>board_size</th>\n",
       "      <th>max_game_length</th>\n",
       "      <th>winning_player</th>\n",
       "      <th>name</th>\n",
       "      <th>version</th>\n",
       "    </tr>\n",
       "  </thead>\n",
       "  <tbody>\n",
       "    <tr>\n",
       "      <th>0</th>\n",
       "      <td>2</td>\n",
       "      <td>4</td>\n",
       "      <td>1000</td>\n",
       "      <td>0</td>\n",
       "      <td>bad-player-3-bootstrap-simulation</td>\n",
       "      <td>v0.0.1</td>\n",
       "    </tr>\n",
       "    <tr>\n",
       "      <th>1</th>\n",
       "      <td>2</td>\n",
       "      <td>4</td>\n",
       "      <td>1000</td>\n",
       "      <td>3</td>\n",
       "      <td>bad-player-3-bootstrap-simulation</td>\n",
       "      <td>v0.0.1</td>\n",
       "    </tr>\n",
       "    <tr>\n",
       "      <th>2</th>\n",
       "      <td>2</td>\n",
       "      <td>4</td>\n",
       "      <td>1000</td>\n",
       "      <td>0</td>\n",
       "      <td>bootstrap-p3-010-simulation</td>\n",
       "      <td>v0.0.1</td>\n",
       "    </tr>\n",
       "    <tr>\n",
       "      <th>3</th>\n",
       "      <td>2</td>\n",
       "      <td>4</td>\n",
       "      <td>1000</td>\n",
       "      <td>3</td>\n",
       "      <td>bootstrap-p3-010-simulation</td>\n",
       "      <td>v0.0.1</td>\n",
       "    </tr>\n",
       "    <tr>\n",
       "      <th>4</th>\n",
       "      <td>2</td>\n",
       "      <td>4</td>\n",
       "      <td>1000</td>\n",
       "      <td>0</td>\n",
       "      <td>bootstrap-simulation-p0d05-p0d25</td>\n",
       "      <td>v0.0.1</td>\n",
       "    </tr>\n",
       "    <tr>\n",
       "      <th>5</th>\n",
       "      <td>2</td>\n",
       "      <td>4</td>\n",
       "      <td>1000</td>\n",
       "      <td>3</td>\n",
       "      <td>bootstrap-simulation-p0d05-p0d25</td>\n",
       "      <td>v0.0.1</td>\n",
       "    </tr>\n",
       "    <tr>\n",
       "      <th>6</th>\n",
       "      <td>2</td>\n",
       "      <td>4</td>\n",
       "      <td>1000</td>\n",
       "      <td>0</td>\n",
       "      <td>bootstrap-simulation-p0d15</td>\n",
       "      <td>v0.0.1</td>\n",
       "    </tr>\n",
       "    <tr>\n",
       "      <th>7</th>\n",
       "      <td>2</td>\n",
       "      <td>4</td>\n",
       "      <td>1000</td>\n",
       "      <td>3</td>\n",
       "      <td>bootstrap-simulation-p0d15</td>\n",
       "      <td>v0.0.1</td>\n",
       "    </tr>\n",
       "    <tr>\n",
       "      <th>8</th>\n",
       "      <td>2</td>\n",
       "      <td>4</td>\n",
       "      <td>1000</td>\n",
       "      <td>0</td>\n",
       "      <td>bootstrap-simulation</td>\n",
       "      <td>v0.0.1</td>\n",
       "    </tr>\n",
       "    <tr>\n",
       "      <th>9</th>\n",
       "      <td>2</td>\n",
       "      <td>4</td>\n",
       "      <td>1000</td>\n",
       "      <td>3</td>\n",
       "      <td>bootstrap-simulation</td>\n",
       "      <td>v0.0.1</td>\n",
       "    </tr>\n",
       "    <tr>\n",
       "      <th>10</th>\n",
       "      <td>2</td>\n",
       "      <td>4</td>\n",
       "      <td>1000</td>\n",
       "      <td>0</td>\n",
       "      <td>dql-cnn-v002-vs-bootstrap-p0-simulation</td>\n",
       "      <td>v0.0.1</td>\n",
       "    </tr>\n",
       "    <tr>\n",
       "      <th>11</th>\n",
       "      <td>2</td>\n",
       "      <td>4</td>\n",
       "      <td>1000</td>\n",
       "      <td>3</td>\n",
       "      <td>dql-cnn-v002-vs-bootstrap-p0-simulation</td>\n",
       "      <td>v0.0.1</td>\n",
       "    </tr>\n",
       "    <tr>\n",
       "      <th>12</th>\n",
       "      <td>2</td>\n",
       "      <td>4</td>\n",
       "      <td>150</td>\n",
       "      <td>0</td>\n",
       "      <td>bootstrap-simulation</td>\n",
       "      <td>v0.0.1</td>\n",
       "    </tr>\n",
       "    <tr>\n",
       "      <th>13</th>\n",
       "      <td>2</td>\n",
       "      <td>4</td>\n",
       "      <td>150</td>\n",
       "      <td>3</td>\n",
       "      <td>bootstrap-simulation</td>\n",
       "      <td>v0.0.1</td>\n",
       "    </tr>\n",
       "    <tr>\n",
       "      <th>14</th>\n",
       "      <td>2</td>\n",
       "      <td>4</td>\n",
       "      <td>200</td>\n",
       "      <td>0</td>\n",
       "      <td>bootstrap-simulation-short</td>\n",
       "      <td>v0.0.1</td>\n",
       "    </tr>\n",
       "    <tr>\n",
       "      <th>15</th>\n",
       "      <td>2</td>\n",
       "      <td>4</td>\n",
       "      <td>200</td>\n",
       "      <td>3</td>\n",
       "      <td>bootstrap-simulation-short</td>\n",
       "      <td>v0.0.1</td>\n",
       "    </tr>\n",
       "    <tr>\n",
       "      <th>16</th>\n",
       "      <td>2</td>\n",
       "      <td>4</td>\n",
       "      <td>200</td>\n",
       "      <td>0</td>\n",
       "      <td>bootstrap-simulation</td>\n",
       "      <td>v0.0.1</td>\n",
       "    </tr>\n",
       "    <tr>\n",
       "      <th>17</th>\n",
       "      <td>2</td>\n",
       "      <td>4</td>\n",
       "      <td>200</td>\n",
       "      <td>3</td>\n",
       "      <td>bootstrap-simulation</td>\n",
       "      <td>v0.0.1</td>\n",
       "    </tr>\n",
       "    <tr>\n",
       "      <th>18</th>\n",
       "      <td>2</td>\n",
       "      <td>4</td>\n",
       "      <td>300</td>\n",
       "      <td>0</td>\n",
       "      <td>bootstrap-simulation-random-noise</td>\n",
       "      <td>v0.0.1</td>\n",
       "    </tr>\n",
       "    <tr>\n",
       "      <th>19</th>\n",
       "      <td>2</td>\n",
       "      <td>4</td>\n",
       "      <td>300</td>\n",
       "      <td>3</td>\n",
       "      <td>bootstrap-simulation-random-noise</td>\n",
       "      <td>v0.0.1</td>\n",
       "    </tr>\n",
       "    <tr>\n",
       "      <th>20</th>\n",
       "      <td>2</td>\n",
       "      <td>4</td>\n",
       "      <td>500</td>\n",
       "      <td>3</td>\n",
       "      <td>bootstrap-0d01-vs-dql-v004</td>\n",
       "      <td>v0.0.1</td>\n",
       "    </tr>\n",
       "    <tr>\n",
       "      <th>21</th>\n",
       "      <td>2</td>\n",
       "      <td>4</td>\n",
       "      <td>500</td>\n",
       "      <td>3</td>\n",
       "      <td>bootstrap-vs-dql-v003</td>\n",
       "      <td>v0.0.1</td>\n",
       "    </tr>\n",
       "  </tbody>\n",
       "</table>\n",
       "</div>"
      ],
      "text/plain": [
       "    player_count  board_size  max_game_length winning_player  \\\n",
       "0              2           4             1000              0   \n",
       "1              2           4             1000              3   \n",
       "2              2           4             1000              0   \n",
       "3              2           4             1000              3   \n",
       "4              2           4             1000              0   \n",
       "5              2           4             1000              3   \n",
       "6              2           4             1000              0   \n",
       "7              2           4             1000              3   \n",
       "8              2           4             1000              0   \n",
       "9              2           4             1000              3   \n",
       "10             2           4             1000              0   \n",
       "11             2           4             1000              3   \n",
       "12             2           4              150              0   \n",
       "13             2           4              150              3   \n",
       "14             2           4              200              0   \n",
       "15             2           4              200              3   \n",
       "16             2           4              200              0   \n",
       "17             2           4              200              3   \n",
       "18             2           4              300              0   \n",
       "19             2           4              300              3   \n",
       "20             2           4              500              3   \n",
       "21             2           4              500              3   \n",
       "\n",
       "                                       name version  \n",
       "0         bad-player-3-bootstrap-simulation  v0.0.1  \n",
       "1         bad-player-3-bootstrap-simulation  v0.0.1  \n",
       "2               bootstrap-p3-010-simulation  v0.0.1  \n",
       "3               bootstrap-p3-010-simulation  v0.0.1  \n",
       "4          bootstrap-simulation-p0d05-p0d25  v0.0.1  \n",
       "5          bootstrap-simulation-p0d05-p0d25  v0.0.1  \n",
       "6                bootstrap-simulation-p0d15  v0.0.1  \n",
       "7                bootstrap-simulation-p0d15  v0.0.1  \n",
       "8                      bootstrap-simulation  v0.0.1  \n",
       "9                      bootstrap-simulation  v0.0.1  \n",
       "10  dql-cnn-v002-vs-bootstrap-p0-simulation  v0.0.1  \n",
       "11  dql-cnn-v002-vs-bootstrap-p0-simulation  v0.0.1  \n",
       "12                     bootstrap-simulation  v0.0.1  \n",
       "13                     bootstrap-simulation  v0.0.1  \n",
       "14               bootstrap-simulation-short  v0.0.1  \n",
       "15               bootstrap-simulation-short  v0.0.1  \n",
       "16                     bootstrap-simulation  v0.0.1  \n",
       "17                     bootstrap-simulation  v0.0.1  \n",
       "18        bootstrap-simulation-random-noise  v0.0.1  \n",
       "19        bootstrap-simulation-random-noise  v0.0.1  \n",
       "20               bootstrap-0d01-vs-dql-v004  v0.0.1  \n",
       "21                    bootstrap-vs-dql-v003  v0.0.1  "
      ]
     },
     "execution_count": 3,
     "metadata": {},
     "output_type": "execute_result"
    }
   ],
   "source": [
    "# filter to only 2 player games on a size 4 board\n",
    "catalog = S3SimulationCatalog()\n",
    "metadata_list: List[SimulationMetadata] = [\n",
    "    m\n",
    "    for m in catalog.list_datasets()\n",
    "    if m.player_count == 2 and m.board_size == 4 and m.winning_player in [\"0\", \"3\"]\n",
    "]\n",
    "pd.DataFrame([asdict(m) for m in metadata_list])"
   ]
  },
  {
   "cell_type": "code",
   "execution_count": 4,
   "id": "be49e1cd-b6c3-4646-bb12-9207c130d95f",
   "metadata": {
    "ExecuteTime": {
     "end_time": "2024-11-09T21:49:56.822381Z",
     "start_time": "2024-11-09T21:49:47.516318Z"
    }
   },
   "outputs": [
    {
     "name": "stderr",
     "output_type": "stream",
     "text": [
      "Loading Simulations: 100%|██████████| 22/22 [00:41<00:00,  1.87s/it, Simulation Count=9526]"
     ]
    },
    {
     "name": "stdout",
     "output_type": "stream",
     "text": [
      "All 9526 simulations loaded.\n"
     ]
    },
    {
     "name": "stderr",
     "output_type": "stream",
     "text": [
      "\n"
     ]
    }
   ],
   "source": [
    "simulations: List[GameSimulation] = []\n",
    "\n",
    "with tqdm(metadata_list, desc=\"Loading Simulations\") as progress_bar:\n",
    "    for metadata in progress_bar:\n",
    "        simulations += list(catalog.load_random_batch(metadata, 20))\n",
    "        progress_bar.set_postfix({\"Simulation Count\": len(simulations)})\n",
    "\n",
    "print(f\"All {len(simulations)} simulations loaded.\")"
   ]
  },
  {
   "cell_type": "code",
   "execution_count": 4,
   "id": "58ed3ac7-247f-43a1-a1d6-6d1bddc34533",
   "metadata": {},
   "outputs": [
    {
     "data": {
      "text/plain": [
       "GameSimulation(metadata=SimulationMetadata(player_count=2, board_size=4, max_game_length=1000, winning_player='0', name='bad-player-3-bootstrap-simulation', version='v0.0.1'), data=SimulationData(player_ids=['0', '3'], player_start_positions=[[(-3, -2), (-4, -4), (-3, -4), (-1, -4), (-2, -4), (-4, -3), (-4, -1), (-4, -2), (-3, -3), (-2, -3)], [(3, 4), (4, 2), (4, 1), (3, 2), (4, 3), (1, 4), (4, 4), (0, -1), (-2, -1), (2, 3)]], player_target_positions=[[(-1, -4), (-2, -3), (-2, -4), (-3, -2), (-3, -3), (-3, -4), (-4, -1), (-4, -2), (-4, -3), (-4, -4)], [(1, 4), (2, 3), (2, 4), (3, 2), (3, 3), (3, 4), (4, 1), (4, 2), (4, 3), (4, 4)]], historical_moves=[Move(0, -1), Position(2, 3), Move(2, 0), Position(-4, -2), Move(-2, 0), Position(3, 2), Move(0, 2), Position(-2, -3), Move(-2, -2), Position(4, 3), Move(2, 2), Position(-3, -3), Move(1, -1), Position(2, 1), Move(2, 2), Position(-3, -2), Move(-1, 0), Position(3, 0), Move(2, 0), Position(-2, -1), Move(-2, -2), Position(4, 1), Move(2, 4), Position(-1, -1), Move(-1, 1), Position(2, -1), Move(-1, 0), Position(1, 3), Move(-1, 0), Position(1, 0), Move(1, 0), Position(0, 3), Move(-1, 0), Position(1, 4), Move(-1, 0), Position(0, -1), Move(0, -1), Position(1, 2), Move(4, 2), Position(-1, 0), Move(-6, -6), Position(3, 4), Move(8, 4), Position(-4, -1), Move(0, -2), Position(3, 3), Move(0, 1), Position(-1, -4), Move(0, -1), Position(2, 4), Move(4, 8), Position(-3, -4), Move(-4, -6), Position(2, 3), Move(-4, -2), Position(3, 2), Move(-2, 0), Position(0, 0), Move(1, 0), Position(1, 3), Move(-1, 0), Position(4, 2), Move(0, 1), Position(-1, 0), Move(-1, 1), Position(-2, 0), Move(0, 1), Position(-1, 1), Move(-2, -2), Position(3, 2), Move(2, -2), Position(1, 4), Move(-1, 1), Position(1, 0), Move(2, 0), Position(-1, 2), Move(0, -1), Position(3, 1), Move(1, -1), Position(1, 2), Move(-2, 0), Position(3, 0), Move(0, -1), Position(4, 3), Move(1, -1), Position(0, 4), Move(0, 1), Position(-1, -3), Move(0, 4), Position(1, 0), Move(1, 0), Position(2, 1), Move(-1, 1), Position(-3, 1), Move(1, 0), Position(3, 1), Move(0, -4), Position(1, 4), Move(0, 1), Position(-1, -1), Move(-1, 0), Position(1, 0), Move(-1, 0), Position(4, 1), Move(-4, -4), Position(1, 1), Move(1, 0), Position(3, 1), Move(-1, 0), Position(0, 1), Move(4, 0), Position(-1, 0), Move(2, -4), Position(1, 3), Move(0, 1), Position(-1, -2), Move(0, -1), Position(2, 0), Move(1, 0), Position(2, 3), Move(0, -1), Position(0, 0), Move(0, 1), Position(4, 2), Move(1, -1), Position(0, -1), Move(-1, 1), Position(3, 0), Move(-1, 1), Position(3, -1), Move(-1, 1), Position(2, 1), Move(0, 2), Position(2, -1), Move(1, 0), Position(-2, -2), Move(0, -1), Position(1, -2), Move(-1, 1), Position(1, 2), Move(-1, 0), Position(-1, 1), Move(0, 1), Position(0, 3), Move(-1, 0), Position(1, -3), Move(1, 0), Position(0, 4), Move(0, -1), Position(0, -3), Move(0, 2), Position(3, 2), Move(1, -1), Position(-2, 1), Move(2, 4), Position(-2, -4), Move(2, 0), Position(-1, 0), Move(0, 1), Position(4, 1), Move(-1, 0), Position(-4, 2), Move(0, -4), Position(3, 4), Move(1, 0), Position(-5, 2), Move(0, 1), Position(3, 3), Move(-1, 0), Position(0, -4), Move(0, 2), Position(3, 0), Move(1, -1), Position(2, 0), Move(4, -2), Position(0, 0), Move(-4, 0), Position(4, 4), Move(-2, 2), Position(4, -2), Move(0, -1), Position(-4, 2), Move(1, 0), Position(2, 0), Move(0, -1), Position(-4, 1), Move(-1, 0), Position(3, 0), Move(0, -1), Position(-2, -3), Move(2, 4), Position(-4, -4), Move(0, -1), Position(-4, 0), Move(1, -1), Position(1, 4), Move(-1, 0), Position(1, 0), Move(-1, 0), Position(2, 0), Move(0, -1), Position(0, 0), Move(2, 4), Position(-1, -1), Move(-6, -6), Position(2, 2), Move(2, -2), Position(1, 3), Move(-1, 0), Position(0, -1), Move(0, 2), Position(3, 1), Move(0, -2), Position(-1, -1), Move(-1, 0), Position(3, 4), Move(-1, 1), Position(-1, -4), Move(-2, -2), Position(3, 3), Move(-1, 1), Position(-1, -3), Move(0, 1), Position(1, 1), Move(-2, 0), Position(-2, -2), Move(0, -1), Position(1, 2), Move(-2, 0), Position(2, 1), Move(0, 2), Position(1, 0), Move(0, -1), Position(0, 1), Move(0, -1), Position(4, 2), Move(0, -1), Position(0, 0), Move(-1, 0), Position(1, 1), Move(1, 0), Position(-3, -2), Move(1, 0), Position(1, 2), Move(-1, 0), Position(-2, -2), Move(2, 2), Position(2, 2), Move(-1, 0), Position(0, -1), Move(1, -1), Position(2, 4), Move(0, -2), Position(-1, -1), Move(-1, 0), Position(4, 4), Move(-1, 1), Position(-1, -3), Move(-1, 1), Position(3, 3), Move(1, -1), Position(-2, -2), Move(0, 1), Position(4, 1), Move(-1, 1), Position(-1, -3), Move(0, 1), Position(0, 1), Move(1, -1), Position(-2, -2), Move(-1, 0), Position(2, 3), Move(-1, 1), Position(-1, -3), Move(0, 1), Position(1, 3), Move(-1, 1), Position(-2, -2), Move(1, 0), Position(0, 2), Move(1, -1), Position(-3, -1), Move(-1, 1), Position(1, 2), Move(1, -1), Position(-2, -2), Move(1, 0), Position(0, 3), Move(-1, 1), Position(-1, -3), Move(0, -1), Position(-1, -2), Move(-1, 1), Position(-2, -2), Move(-1, 1), Position(4, 2), Move(1, -1), Position(-3, -1), Move(0, 1), Position(-2, 0), Move(-1, 1), Position(-2, -2), Move(1, 0), Position(3, 4), Move(0, 1), Position(-2, -3), Move(0, 2), Position(3, 2), Move(0, -1), Position(-2, -2), Move(-1, 0), Position(-2, 1), Move(1, -1), Position(-3, -1), Move(1, -1), Position(1, 3), Move(-1, 1), Position(-2, -2), Move(-1, 1), Position(2, 2), Move(1, -1), Position(-3, -1), Move(-2, 2), Position(1, 3), Move(-1, 1), Position(-2, -2), Move(0, -1), Position(-1, 5), Move(2, 0), Position(-4, -2), Move(1, -1), Position(-1, 4), Move(0, -1), Position(-3, -3), Move(1, -1), Position(-1, -3), Move(0, -2), Position(-3, -1), Move(0, -2), Position(1, 4), Move(-2, 0), Position(-2, -2), Move(1, 0), Position(1, 2), Move(-1, 0), Position(3, -1), Move(1, 0), Position(2, 2), Move(-1, 0), Position(2, -1), Move(1, -1), Position(3, 2), Move(-1, 0), Position(1, -1), Move(1, 0), Position(-3, 1), Move(0, 2), Position(-2, -4), Move(1, 0), Position(0, 3), Move(0, -2), Position(-2, -2), Move(1, -1), Position(1, 3), Move(-1, 0), Position(0, -1), Move(1, 0), Position(-2, 1), Move(0, -1), Position(-1, -1), Move(0, 1), Position(2, 2), Move(-1, 0), Position(-1, -2), Move(0, 1), Position(0, -4), Move(-1, 1), Position(-2, -2), Move(-1, 1), Position(-1, 1), Move(1, -1), Position(-3, -1), Move(-1, 1), Position(-2, 2), Move(1, -1), Position(-2, -2), Move(0, 1), Position(-3, 3), Move(-1, 1), Position(-1, -3), Move(0, -1), Position(2, 3), Move(1, -1), Position(-2, -2), Move(-1, 0), Position(2, 2), Move(-1, 1), Position(-1, -3), Move(-1, 0), Position(1, 2), Move(-1, 1), Position(-2, -2), Move(-1, 1), Position(0, 2), Move(1, -1), Position(-3, -1), Move(-1, 0), Position(-1, 3), Move(-1, 1), Position(-2, -2), Move(1, 0), Position(-2, 3), Move(1, -1), Position(-3, -1), Move(0, -2), Position(4, 4), Move(1, -1), Position(-2, -2), Move(-1, 0), Position(4, 1), Move(-1, 1), Position(-1, -3), Move(1, -1), Position(3, 1), Move(1, -1), Position(-2, -2), Move(1, -1), Position(-1, 3), Move(-1, 1), Position(-1, -3), Move(-1, 0), Position(4, 0), Move(1, -1), Position(-2, -2), Move(0, 1), Position(3, 0), Move(-1, 1), Position(-1, -3), Move(0, 1), Position(4, 3), Move(1, -1), Position(-2, -2), Move(-1, 1), Position(3, 1), Move(-1, 1), Position(-1, -3), Move(1, 0), Position(0, 2), Move(1, -1), Position(-2, -2), Move(1, 0), Position(2, 2), Move(-1, 1), Position(-1, -3), Move(0, 1), Position(1, 2), Move(-1, 1), Position(-2, -2), Move(0, -1), Position(1, 3), Move(1, -1), Position(-3, -1), Move(0, -1), Position(1, 2), Move(-1, 1), Position(-2, -2), Move(-1, 1), Position(1, 1), Move(1, -1), Position(-3, -1), Move(-1, 0), Position(2, 4), Move(1, -1), Position(-2, -2), Move(-1, 1), Position(0, 2), Move(-1, 1), Position(-1, -3), Move(0, -2), Position(3, 3), Move(-1, 1), Position(-2, -2), Move(-1, 1), Position(3, 2), Move(1, -1), Position(-3, -1), Move(1, -1), Position(3, 1), Move(-1, 1), Position(-2, -2), Move(0, -1), Position(4, 2), Move(1, -1), Position(-3, -1), Move(-1, 1), Position(-1, 3), Move(-1, 1), Position(-2, -2), Move(-1, 1), Position(4, 0), Move(1, -1), Position(-3, -1), Move(1, 0), Position(2, 3), Move(-1, 1), Position(-2, -2), Move(-1, 0), Position(3, 1), Move(1, -1), Position(-3, -1), Move(1, -1), Position(0, -3), Move(1, -1), Position(-2, -2), Move(0, -1), Position(2, 1), Move(-1, 1), Position(-1, -3), Move(-1, 1), Position(3, 3), Move(1, -1), Position(-2, -2), Move(1, -1), Position(1, 4), Move(-1, 1), Position(-1, -3), Move(0, -2), Position(3, 4), Move(-1, 1), Position(-2, -2), Move(4, 0), Position(-3, 4), Move(1, -1), Position(-3, -1), Move(1, -1), Position(2, 4), Move(-1, 1), Position(-2, -2), Move(0, 1), Position(2, 0), Move(1, -1), Position(-3, -1), Move(0, 1), Position(-2, 4), Move(1, -1), Position(-2, -2), Move(-1, 0), Position(2, 1), Move(-1, 1), Position(-1, -3), Move(-1, 0), Position(1, 1), Move(-1, 1), Position(-2, -2), Move(-1, 1), Position(0, 1), Move(1, -1), Position(-3, -1), Move(1, 0), Position(3, 3), Move(1, -1), Position(-2, -2), Move(0, -1), Position(-1, 2), Move(-1, 1), Position(-1, -3), Move(0, -1), Position(4, 3), Move(-1, 1), Position(-2, -2), Move(1, -1), Position(-2, 5), Move(1, -1), Position(-3, -1), Move(1, 0), Position(-1, 1), Move(2, 0), Position(-3, -4), Move(0, -1), Position(3, 2), Move(-1, 1), Position(-2, -2), Move(0, 1), Position(4, 2), Move(1, -1), Position(-3, -1), Move(0, -1), Position(2, 3), Move(-1, 1), Position(-2, -2), Move(2, -2), Position(2, 2), Move(1, -1), Position(-3, -1), Move(-1, 1), Position(4, 3), Move(1, -1), Position(-2, -2), Move(-2, 0), Position(4, 4), Move(-1, 1), Position(-1, -3), Move(-2, 2), Position(4, 0), Move(1, -1), Position(-2, -2), Move(0, 1), Position(2, 2), Move(-1, 1), Position(-1, -3), Move(0, 1), Position(3, 1), Move(-1, 1), Position(-2, -2), Move(1, -1), Position(-1, 4), Move(1, -1), Position(-3, -1), Move(1, 0), Position(0, 3), Move(1, -1), Position(-2, -2), Move(0, 1), Position(0, 1), Move(-1, 1), Position(-1, -3), Move(-1, 0), Position(4, 1), Move(1, -1), Position(-2, -2), Move(0, 2), Position(3, 1), Move(-1, 1), Position(-1, -3), Move(2, 0), Position(2, 3), Move(1, -1), Position(-2, -2), Move(1, 0), Position(0, 2), Move(-1, 1), Position(-1, -3), Move(1, 0), Position(1, 3), Move(1, -1), Position(-2, -2), Move(1, -1), Position(1, 2), Move(-1, 1), Position(-1, -3), Move(0, -2), Position(2, 4), Move(0, -2), Position(-3, -2), Move(2, 2), Position(2, 2), Move(-1, 0), Position(-2, -2), Move(1, 0), Position(2, 1), Move(0, -1), Position(0, 4), Move(-1, 1), Position(3, 1), Move(0, -1), Position(0, 3), Move(0, -1), Position(2, 2), Move(0, -1), Position(0, 2), Move(-2, 0), Position(3, 3), Move(0, -1), Position(0, 1), Move(2, -2), Position(1, 3), Move(-1, 0), Position(0, 0), Move(-1, 0), Position(3, 2), Move(0, -1), Position(-1, 0), Move(0, 2), Position(2, 2), Move(-1, 0), Position(-1, -1), Move(0, -1), Position(1, -4), Move(0, -1), Position(-2, -1), Move(-1, 1), Position(1, -5), Move(-1, 1), Position(-2, -2), Move(1, 0), Position(3, 1), Move(1, -1), Position(-3, -1), Move(0, -1), Position(2, 1), Move(-1, 1), Position(-2, -2), Move(2, -2), Position(1, 4), Move(1, -1), Position(-3, -1), Move(-1, 1), Position(2, 0), Move(1, -1), Position(-2, -2), Move(-1, 1), Position(1, 1), Move(-1, 1), Position(-1, -3), Move(1, 0), Position(0, 2), Move(-1, 1), Position(-2, -2), Move(1, -1), Position(0, -4), Move(1, -1), Position(-3, -1), Move(0, 1), Position(1, 2), Move(-1, 1), Position(-2, -2), Move(0, 1), Position(1, -5), Move(1, -1), Position(-3, -1), Move(1, 0), Position(2, 3), Move(1, -1), Position(-2, -2), Move(0, -1), Position(4, 1), Move(-1, 1), Position(-1, -3), Move(1, 0), Position(1, 3), Move(-1, 1), Position(-2, -2), Move(0, -1), Position(4, 3), Move(1, -1), Position(-3, -1), Move(0, 1), Position(4, 0), Move(1, -1), Position(-2, -2), Move(0, 1), Position(1, -4), Move(-1, 1), Position(-1, -3), Move(-1, 1), Position(1, -3), Move(1, -1), Position(-2, -2), Move(1, -1), Position(0, -2), Move(-1, 1), Position(-1, -3), Move(-2, 2), Position(3, 2), Move(-1, 1), Position(-2, -2), Move(-2, 0), Position(2, 4), Move(1, -1), Position(-3, -1), Move(2, -2), Position(1, 4), Move(1, -1), Position(-2, -2), Move(0, 1), Position(1, -3), Move(-1, 1), Position(-1, -3), Move(-1, 1), Position(0, 4), Move(1, -1), Position(-2, -2), Move(-1, 0), Position(3, 4), Move(-1, 1), Position(-1, -3), Move(-1, 0), Position(-1, 5), Move(-1, 1), Position(-2, -2), Move(-1, 1), Position(1, -2), Move(1, -1), Position(-3, -1), Move(1, -1), Position(-2, 5), Move(1, -1), Position(-2, -2), Move(0, -1), Position(-1, 4), Move(-1, 1), Position(-1, -3), Move(0, 1), Position(-1, 3), Move(1, -1), Position(-2, -2), Move(-1, 0), Position(4, 4), Move(0, 1), Position(-2, -3), Move(2, 2), Position(-4, -3), Move(-1, 0), Position(-1, -3), Move(-1, 0), Position(2, 3), Move(1, -1), Position(-2, -2), Move(1, 0), Position(1, 3), Move(-1, 1), Position(-1, -3), Move(-1, 0), Position(3, 2), Move(1, -1), Position(-2, -2), Move(1, -1), Position(3, 4), Move(-1, 1), Position(-1, -3), Move(1, -1), Position(2, 3), Move(-1, 1), Position(-2, -2), Move(0, 1), Position(2, 2), Move(1, -1), Position(-3, -1), Move(1, 0), Position(-1, 4), Move(-1, 1), Position(-2, -2), Move(0, -2), Position(2, 4), Move(1, -1), Position(-3, -1), Move(0, 1), Position(4, 3), Move(1, -1), Position(-2, -2), Move(0, 1), Position(4, 2), Move(-1, 1), Position(-3, -4), Move(0, 1), Position(3, 3), Move(-1, 1), Position(-1, -3), Move(2, 0), Position(2, 2), Move(2, 0), Position(-3, -3), Move(-1, 0), Position(3, 4), Move(-2, 0), Position(-1, -3), Move(1, 0), Position(2, 4), Move(1, -1), Position(-2, -2), Move(1, 0), Position(0, 4), Move(-1, 1), Position(-1, -3), Move(0, -1), Position(2, 3), Move(-1, 0), Position(-2, -4), Move(0, 1), Position(2, 2), Move(0, -2), Position(-2, -2)], uuid='e4edc897-db48-4873-8673-3a41d8bcc302'))"
      ]
     },
     "execution_count": 4,
     "metadata": {},
     "output_type": "execute_result"
    }
   ],
   "source": [
    "simulations[0]"
   ]
  },
  {
   "cell_type": "code",
   "execution_count": null,
   "id": "ebd15291-c702-48bb-b357-ab497c1bac14",
   "metadata": {
    "ExecuteTime": {
     "end_time": "2024-11-09T21:49:56.865837Z",
     "start_time": "2024-11-09T21:49:56.829385Z"
    }
   },
   "outputs": [],
   "source": [
    "# compute the summary statistics for the simulations\n",
    "data = []\n",
    "for sim in simulations:\n",
    "    metadata: SimulationMetadata = sim.metadata\n",
    "    data.append({\n",
    "        \"name\": metadata.name,\n",
    "        \"version\": metadata.version,\n",
    "        \"winning_player\": metadata.winning_player,\n",
    "        \"game_length\": len(sim.data.historical_moves)\n",
    "    })\n",
    "\n",
    "simulations_df = pd.DataFrame(data)\n",
    "\n",
    "summary_df = simulations_df.groupby([\"name\", \"version\", \"winning_player\"]).agg(\n",
    "    game_count=(\"winning_player\", \"size\"),\n",
    "    avg_game_length=(\"game_length\", \"mean\"),\n",
    "    min_game_length=(\"game_length\", \"min\"),\n",
    "    max_game_length=(\"game_length\", \"max\"),\n",
    ").reset_index()\n",
    "\n",
    "metadata_summary_df = simulations_df.groupby([\"name\", \"version\"]).agg(\n",
    "    total_games=(\"winning_player\", \"size\"),\n",
    "    winning_player_counts=(\"winning_player\", lambda x: Counter(x))\n",
    ").reset_index()\n",
    "\n",
    "full_summary_df = pd.merge(summary_df, metadata_summary_df, on=[\"name\", \"version\"])\n",
    "full_summary_df"
   ]
  },
  {
   "cell_type": "code",
   "execution_count": null,
   "id": "6364c4da97f3f32d",
   "metadata": {
    "ExecuteTime": {
     "end_time": "2024-11-09T23:43:25.606850Z",
     "start_time": "2024-11-09T23:43:22.517446Z"
    }
   },
   "outputs": [],
   "source": [
    "import pandas as pd\n",
    "import matplotlib.pyplot as plt\n",
    "from collections import Counter\n",
    "\n",
    "all_moves = []\n",
    "for sim in simulations:\n",
    "    # if sim.metadata.name in ['bad-player-3-bootstrap-simulation']:\n",
    "    all_moves.extend(sim.data.historical_moves)\n",
    "\n",
    "move_counts = Counter(all_moves)\n",
    "\n",
    "move_df = pd.DataFrame(list(move_counts.items()), columns=[\"move\", \"count\"])\n",
    "\n",
    "total_moves = len(all_moves)\n",
    "unique_moves = move_df[move_df[\"count\"] == 1].shape[0]\n",
    "duplicate_moves = move_df[move_df[\"count\"] > 1].shape[0]\n",
    "max_duplicate_count = move_df[\"count\"].max()\n",
    "mean_duplicate_count = move_df[move_df[\"count\"] > 1][\"count\"].mean()\n",
    "\n",
    "summary_stats = {\n",
    "    \"total_moves\": total_moves,\n",
    "    \"unique_moves\": unique_moves,\n",
    "    \"duplicate_moves\": duplicate_moves,\n",
    "    \"max_duplicate_count\": max_duplicate_count,\n",
    "    \"mean_duplicate_count\": mean_duplicate_count,\n",
    "}\n",
    "summary_df = pd.DataFrame([summary_stats])\n",
    "\n",
    "print(summary_df)\n",
    "\n",
    "plt.figure(figsize=(10, 6))\n",
    "move_df[move_df[\"count\"] > 1][\"count\"].plot(kind=\"hist\", bins=200, edgecolor=\"black\")\n",
    "plt.title(\"Distribution of Duplicate Move Counts\")\n",
    "plt.xlabel(\"Duplicate Count\")\n",
    "plt.ylabel(\"Frequency\")\n",
    "plt.show()\n"
   ]
  },
  {
   "cell_type": "code",
   "execution_count": null,
   "id": "7f6b1fd12c568b44",
   "metadata": {
    "ExecuteTime": {
     "end_time": "2024-11-09T21:59:36.931111Z",
     "start_time": "2024-11-09T21:59:36.923424Z"
    }
   },
   "outputs": [],
   "source": [
    "move_df.sort_values(by='count', ascending=False)"
   ]
  },
  {
   "cell_type": "code",
   "execution_count": null,
   "id": "566c3c5ad5ecdb4c",
   "metadata": {
    "ExecuteTime": {
     "end_time": "2024-11-09T21:59:38.142487Z",
     "start_time": "2024-11-09T21:59:38.135663Z"
    }
   },
   "outputs": [],
   "source": [
    "move_df.sort_values(by='count', ascending=True)"
   ]
  },
  {
   "cell_type": "code",
   "execution_count": null,
   "id": "7a281b5908580a34",
   "metadata": {
    "ExecuteTime": {
     "end_time": "2024-11-09T21:51:09.986927Z",
     "start_time": "2024-11-09T21:51:09.525699Z"
    }
   },
   "outputs": [],
   "source": [
    "game = ChineseCheckersGame.start_game(2, 4)\n",
    "game = ChineseCheckersGame(game.players, game.turn, game.board, Printer(show_coordinates=True))\n",
    "game.print()"
   ]
  },
  {
   "cell_type": "code",
   "execution_count": null,
   "id": "8d7dbfc1d9dc5c2f",
   "metadata": {},
   "outputs": [],
   "source": []
  }
 ],
 "metadata": {
  "kernelspec": {
   "display_name": "Python 3 (ipykernel)",
   "language": "python",
   "name": "python3"
  },
  "language_info": {
   "codemirror_mode": {
    "name": "ipython",
    "version": 3
   },
   "file_extension": ".py",
   "mimetype": "text/x-python",
   "name": "python",
   "nbconvert_exporter": "python",
   "pygments_lexer": "ipython3",
   "version": "3.12.6"
  }
 },
 "nbformat": 4,
 "nbformat_minor": 5
}
