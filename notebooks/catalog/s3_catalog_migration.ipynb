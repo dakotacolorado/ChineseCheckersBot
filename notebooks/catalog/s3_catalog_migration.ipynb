{
 "cells": [
  {
   "cell_type": "code",
   "execution_count": 1,
   "id": "initial_id",
   "metadata": {
    "ExecuteTime": {
     "end_time": "2024-11-29T04:59:06.578094Z",
     "start_time": "2024-11-29T04:58:53.020946Z"
    }
   },
   "outputs": [],
   "source": [
    "from chinese_checkers.simulation import GameSimulation, SimulationData, SimulationMetadata, S3SimulationCatalog"
   ]
  },
  {
   "cell_type": "markdown",
   "id": "1cf49921-30d3-459d-b15a-09fc199e1ffa",
   "metadata": {},
   "source": [
    "### Experiences"
   ]
  },
  {
   "cell_type": "code",
   "execution_count": 2,
   "id": "6091b00bf0636b94",
   "metadata": {},
   "outputs": [
    {
     "data": {
      "text/plain": [
       "[SimulationMetadata(player_count=2, board_size=4, max_game_length=1000, winning_player='0', name='bad-player-3-bootstrap-simulation', version='v0.0.1'),\n",
       " SimulationMetadata(player_count=2, board_size=4, max_game_length=1000, winning_player='3', name='bad-player-3-bootstrap-simulation', version='v0.0.1'),\n",
       " SimulationMetadata(player_count=2, board_size=4, max_game_length=1000, winning_player='None', name='bad-player-3-bootstrap-simulation', version='v0.0.1'),\n",
       " SimulationMetadata(player_count=2, board_size=4, max_game_length=1000, winning_player='0', name='bootstrap-p3-010-simulation', version='v0.0.1'),\n",
       " SimulationMetadata(player_count=2, board_size=4, max_game_length=1000, winning_player='3', name='bootstrap-p3-010-simulation', version='v0.0.1'),\n",
       " SimulationMetadata(player_count=2, board_size=4, max_game_length=1000, winning_player='0', name='bootstrap-simulation-p0d05-p0d25', version='v0.0.1'),\n",
       " SimulationMetadata(player_count=2, board_size=4, max_game_length=1000, winning_player='3', name='bootstrap-simulation-p0d05-p0d25', version='v0.0.1'),\n",
       " SimulationMetadata(player_count=2, board_size=4, max_game_length=1000, winning_player='0', name='bootstrap-simulation-p0d15', version='v0.0.1'),\n",
       " SimulationMetadata(player_count=2, board_size=4, max_game_length=1000, winning_player='3', name='bootstrap-simulation-p0d15', version='v0.0.1'),\n",
       " SimulationMetadata(player_count=2, board_size=4, max_game_length=1000, winning_player='0', name='bootstrap-simulation', version='v0.0.1'),\n",
       " SimulationMetadata(player_count=2, board_size=4, max_game_length=1000, winning_player='3', name='bootstrap-simulation', version='v0.0.1'),\n",
       " SimulationMetadata(player_count=2, board_size=4, max_game_length=1000, winning_player='0', name='dql-cnn-v002-vs-bootstrap-p0-simulation', version='v0.0.1'),\n",
       " SimulationMetadata(player_count=2, board_size=4, max_game_length=1000, winning_player='3', name='dql-cnn-v002-vs-bootstrap-p0-simulation', version='v0.0.1'),\n",
       " SimulationMetadata(player_count=2, board_size=4, max_game_length=1000, winning_player='None', name='dql-cnn-v002-vs-bootstrap-p0-simulation', version='v0.0.1'),\n",
       " SimulationMetadata(player_count=2, board_size=4, max_game_length=1000, winning_player='None', name='dql-cnn-v003-vs-bootstrap-p0-simulation', version='v0.0.1'),\n",
       " SimulationMetadata(player_count=2, board_size=4, max_game_length=150, winning_player='0', name='bootstrap-simulation', version='v0.0.1'),\n",
       " SimulationMetadata(player_count=2, board_size=4, max_game_length=150, winning_player='3', name='bootstrap-simulation', version='v0.0.1'),\n",
       " SimulationMetadata(player_count=2, board_size=4, max_game_length=200, winning_player='0', name='bootstrap-simulation-short', version='v0.0.1'),\n",
       " SimulationMetadata(player_count=2, board_size=4, max_game_length=200, winning_player='3', name='bootstrap-simulation-short', version='v0.0.1'),\n",
       " SimulationMetadata(player_count=2, board_size=4, max_game_length=200, winning_player='0', name='bootstrap-simulation', version='v0.0.1'),\n",
       " SimulationMetadata(player_count=2, board_size=4, max_game_length=200, winning_player='3', name='bootstrap-simulation', version='v0.0.1'),\n",
       " SimulationMetadata(player_count=2, board_size=4, max_game_length=300, winning_player='0', name='bootstrap-simulation-random-noise', version='v0.0.1'),\n",
       " SimulationMetadata(player_count=2, board_size=4, max_game_length=300, winning_player='3', name='bootstrap-simulation-random-noise', version='v0.0.1'),\n",
       " SimulationMetadata(player_count=2, board_size=4, max_game_length=500, winning_player='3', name='bootstrap-0d01-vs-dql-v004', version='v0.0.1'),\n",
       " SimulationMetadata(player_count=2, board_size=4, max_game_length=500, winning_player='3', name='bootstrap-vs-dql-v003', version='v0.0.1')]"
      ]
     },
     "execution_count": 2,
     "metadata": {},
     "output_type": "execute_result"
    }
   ],
   "source": [
    "s3_cat = S3SimulationCatalog(batch_size=100)\n",
    "s3_cat.list_datasets()"
   ]
  },
  {
   "cell_type": "code",
   "execution_count": 4,
   "id": "4c719f34-699f-4907-b880-273ab8c01326",
   "metadata": {},
   "outputs": [],
   "source": [
    "batch = s3_cat.load_random_batch(SimulationMetadata(\n",
    "    player_count=2,  # Specify exact player count\n",
    "    board_size=4,    # Specify exact board size\n",
    "    max_game_length=None,  # Wildcard\n",
    "    winning_player=None,   # Wildcard\n",
    "    name=None,             # Wildcard\n",
    "    version=None           # Wildcard\n",
    "), 5)"
   ]
  },
  {
   "cell_type": "code",
   "execution_count": 6,
   "id": "52afe102-e679-41cd-b58f-290642c4a356",
   "metadata": {},
   "outputs": [
    {
     "data": {
      "text/plain": [
       "874"
      ]
     },
     "execution_count": 6,
     "metadata": {},
     "output_type": "execute_result"
    }
   ],
   "source": [
    "len(batch)"
   ]
  },
  {
   "cell_type": "code",
   "execution_count": null,
   "id": "e5c631a9b70a6853",
   "metadata": {},
   "outputs": [],
   "source": [
    "metadata_s3 = s3_cat.list_datasets()\n",
    "metadata_s3[0]"
   ]
  },
  {
   "cell_type": "code",
   "execution_count": null,
   "id": "e258d760-7e6e-4a06-81ca-cd3ecadcd46b",
   "metadata": {},
   "outputs": [],
   "source": [
    "data_s3 = s3_cat.load_dataset(metadata_s3[1])\n",
    "print(len(data_s3))"
   ]
  },
  {
   "cell_type": "code",
   "execution_count": null,
   "id": "e51219f3-2a6c-4637-bfcf-991a96516925",
   "metadata": {},
   "outputs": [],
   "source": [
    "data_s3[0].to_game_sequence()"
   ]
  },
  {
   "cell_type": "code",
   "execution_count": null,
   "id": "f9bffb43-7eaf-43b8-9a86-f0927a834485",
   "metadata": {},
   "outputs": [],
   "source": []
  }
 ],
 "metadata": {
  "kernelspec": {
   "display_name": "Python 3 (ipykernel)",
   "language": "python",
   "name": "python3"
  },
  "language_info": {
   "codemirror_mode": {
    "name": "ipython",
    "version": 3
   },
   "file_extension": ".py",
   "mimetype": "text/x-python",
   "name": "python",
   "nbconvert_exporter": "python",
   "pygments_lexer": "ipython3",
   "version": "3.12.6"
  }
 },
 "nbformat": 4,
 "nbformat_minor": 5
}
