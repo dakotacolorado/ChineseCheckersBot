{
 "cells": [
  {
   "cell_type": "code",
   "id": "4a29391b-df33-4a0e-b87c-cdfe015b4e90",
   "metadata": {
    "ExecuteTime": {
     "end_time": "2024-11-06T05:35:10.968555Z",
     "start_time": "2024-11-06T05:35:10.965963Z"
    }
   },
   "source": [
    "from chinese_checkers.simulation import SimulationCatalog, GameSimulation, SimulationMetadata\n",
    "\n",
    "from typing import List\n",
    "\n",
    "import pandas as pd\n",
    "from collections import Counter"
   ],
   "outputs": [],
   "execution_count": 20
  },
  {
   "cell_type": "code",
   "id": "dcad4220-a629-4265-be61-50f2339d7dd1",
   "metadata": {
    "ExecuteTime": {
     "end_time": "2024-11-06T05:32:06.179881Z",
     "start_time": "2024-11-06T05:32:06.166360Z"
    }
   },
   "source": [
    "# filter to only 2 player games on a size 4 board\n",
    "catalog = SimulationCatalog()\n",
    "metadata_list: List[SimulationMetadata] = [\n",
    "    m\n",
    "    for m in catalog.list_available_metadata()\n",
    "    if m.player_count == 2 and m.board_size == 4\n",
    "]\n",
    "\n",
    "for meta in metadata_list:\n",
    "    print(meta)"
   ],
   "outputs": [
    {
     "name": "stdout",
     "output_type": "stream",
     "text": [
      "SimulationMetadata(player_count=2, board_size=4, max_game_length=1000, winning_player='0', name='bootstrap-simulation', version='v0.0.1')\n",
      "SimulationMetadata(player_count=2, board_size=4, max_game_length=1000, winning_player='3', name='bootstrap-simulation', version='v0.0.1')\n",
      "SimulationMetadata(player_count=2, board_size=4, max_game_length=1000, winning_player='0', name='bad-player-3-bootstrap-simulation', version='v0.0.1')\n",
      "SimulationMetadata(player_count=2, board_size=4, max_game_length=1000, winning_player='3', name='bad-player-3-bootstrap-simulation', version='v0.0.1')\n"
     ]
    }
   ],
   "execution_count": 17
  },
  {
   "cell_type": "code",
   "id": "be49e1cd-b6c3-4646-bb12-9207c130d95f",
   "metadata": {
    "ExecuteTime": {
     "end_time": "2024-11-06T05:35:15.789471Z",
     "start_time": "2024-11-06T05:35:12.272191Z"
    }
   },
   "source": [
    "# load in the simulations\n",
    "simulations: List[GameSimulation] = []\n",
    "for metadata in metadata_list:\n",
    "    simulations += list(catalog.load_simulations_by_metadata(metadata))\n",
    "    print(f\"Metadata {metadata}, Simulation Count {len(simulations)}\")"
   ],
   "outputs": [
    {
     "name": "stdout",
     "output_type": "stream",
     "text": [
      "Metadata SimulationMetadata(player_count=2, board_size=4, max_game_length=1000, winning_player='0', name='bootstrap-simulation', version='v0.0.1'), Simulation Count 870\n",
      "Metadata SimulationMetadata(player_count=2, board_size=4, max_game_length=1000, winning_player='3', name='bootstrap-simulation', version='v0.0.1'), Simulation Count 1704\n",
      "Metadata SimulationMetadata(player_count=2, board_size=4, max_game_length=1000, winning_player='0', name='bad-player-3-bootstrap-simulation', version='v0.0.1'), Simulation Count 2133\n",
      "Metadata SimulationMetadata(player_count=2, board_size=4, max_game_length=1000, winning_player='3', name='bad-player-3-bootstrap-simulation', version='v0.0.1'), Simulation Count 2167\n"
     ]
    }
   ],
   "execution_count": 21
  },
  {
   "cell_type": "code",
   "id": "ebd15291-c702-48bb-b357-ab497c1bac14",
   "metadata": {
    "ExecuteTime": {
     "end_time": "2024-11-06T05:37:32.537522Z",
     "start_time": "2024-11-06T05:37:32.510073Z"
    }
   },
   "source": [
    "# compute the summary statistics for the simulations\n",
    "data = []\n",
    "for sim in simulations:\n",
    "    metadata: SimulationMetadata = sim.metadata\n",
    "    data.append({\n",
    "        \"name\": metadata.name,\n",
    "        \"version\": metadata.version,\n",
    "        \"winning_player\": metadata.winning_player,\n",
    "        \"game_length\": len(sim.data.historical_moves)\n",
    "    })\n",
    "\n",
    "simulations_df = pd.DataFrame(data)\n",
    "\n",
    "summary_df = simulations_df.groupby([\"name\", \"version\", \"winning_player\"]).agg(\n",
    "    game_count=(\"winning_player\", \"size\"),\n",
    "    avg_game_length=(\"game_length\", \"mean\"),\n",
    "    min_game_length=(\"game_length\", \"min\"),\n",
    "    max_game_length=(\"game_length\", \"max\"),\n",
    ").reset_index()\n",
    "\n",
    "metadata_summary_df = simulations_df.groupby([\"name\", \"version\"]).agg(\n",
    "    total_games=(\"winning_player\", \"size\"),\n",
    "    winning_player_counts=(\"winning_player\", lambda x: Counter(x))\n",
    ").reset_index()\n",
    "\n",
    "full_summary_df = pd.merge(summary_df, metadata_summary_df, on=[\"name\", \"version\"])\n",
    "full_summary_df"
   ],
   "outputs": [
    {
     "data": {
      "text/plain": [
       "                                name version winning_player  game_count  \\\n",
       "0  bad-player-3-bootstrap-simulation  v0.0.1              0         429   \n",
       "1  bad-player-3-bootstrap-simulation  v0.0.1              3          34   \n",
       "2               bootstrap-simulation  v0.0.1              0         870   \n",
       "3               bootstrap-simulation  v0.0.1              3         834   \n",
       "\n",
       "   avg_game_length  min_game_length  max_game_length  total_games  \\\n",
       "0       473.783217              159              999          463   \n",
       "1       561.823529              292              842          463   \n",
       "2       322.347126              115              515         1704   \n",
       "3       321.707434              136              522         1704   \n",
       "\n",
       "  winning_player_counts  \n",
       "0   {'0': 429, '3': 34}  \n",
       "1   {'0': 429, '3': 34}  \n",
       "2  {'0': 870, '3': 834}  \n",
       "3  {'0': 870, '3': 834}  "
      ],
      "text/html": [
       "<div>\n",
       "<style scoped>\n",
       "    .dataframe tbody tr th:only-of-type {\n",
       "        vertical-align: middle;\n",
       "    }\n",
       "\n",
       "    .dataframe tbody tr th {\n",
       "        vertical-align: top;\n",
       "    }\n",
       "\n",
       "    .dataframe thead th {\n",
       "        text-align: right;\n",
       "    }\n",
       "</style>\n",
       "<table border=\"1\" class=\"dataframe\">\n",
       "  <thead>\n",
       "    <tr style=\"text-align: right;\">\n",
       "      <th></th>\n",
       "      <th>name</th>\n",
       "      <th>version</th>\n",
       "      <th>winning_player</th>\n",
       "      <th>game_count</th>\n",
       "      <th>avg_game_length</th>\n",
       "      <th>min_game_length</th>\n",
       "      <th>max_game_length</th>\n",
       "      <th>total_games</th>\n",
       "      <th>winning_player_counts</th>\n",
       "    </tr>\n",
       "  </thead>\n",
       "  <tbody>\n",
       "    <tr>\n",
       "      <th>0</th>\n",
       "      <td>bad-player-3-bootstrap-simulation</td>\n",
       "      <td>v0.0.1</td>\n",
       "      <td>0</td>\n",
       "      <td>429</td>\n",
       "      <td>473.783217</td>\n",
       "      <td>159</td>\n",
       "      <td>999</td>\n",
       "      <td>463</td>\n",
       "      <td>{'0': 429, '3': 34}</td>\n",
       "    </tr>\n",
       "    <tr>\n",
       "      <th>1</th>\n",
       "      <td>bad-player-3-bootstrap-simulation</td>\n",
       "      <td>v0.0.1</td>\n",
       "      <td>3</td>\n",
       "      <td>34</td>\n",
       "      <td>561.823529</td>\n",
       "      <td>292</td>\n",
       "      <td>842</td>\n",
       "      <td>463</td>\n",
       "      <td>{'0': 429, '3': 34}</td>\n",
       "    </tr>\n",
       "    <tr>\n",
       "      <th>2</th>\n",
       "      <td>bootstrap-simulation</td>\n",
       "      <td>v0.0.1</td>\n",
       "      <td>0</td>\n",
       "      <td>870</td>\n",
       "      <td>322.347126</td>\n",
       "      <td>115</td>\n",
       "      <td>515</td>\n",
       "      <td>1704</td>\n",
       "      <td>{'0': 870, '3': 834}</td>\n",
       "    </tr>\n",
       "    <tr>\n",
       "      <th>3</th>\n",
       "      <td>bootstrap-simulation</td>\n",
       "      <td>v0.0.1</td>\n",
       "      <td>3</td>\n",
       "      <td>834</td>\n",
       "      <td>321.707434</td>\n",
       "      <td>136</td>\n",
       "      <td>522</td>\n",
       "      <td>1704</td>\n",
       "      <td>{'0': 870, '3': 834}</td>\n",
       "    </tr>\n",
       "  </tbody>\n",
       "</table>\n",
       "</div>"
      ]
     },
     "execution_count": 26,
     "metadata": {},
     "output_type": "execute_result"
    }
   ],
   "execution_count": 26
  }
 ],
 "metadata": {
  "kernelspec": {
   "display_name": "Python 3 (ipykernel)",
   "language": "python",
   "name": "python3"
  },
  "language_info": {
   "codemirror_mode": {
    "name": "ipython",
    "version": 3
   },
   "file_extension": ".py",
   "mimetype": "text/x-python",
   "name": "python",
   "nbconvert_exporter": "python",
   "pygments_lexer": "ipython3",
   "version": "3.12.6"
  }
 },
 "nbformat": 4,
 "nbformat_minor": 5
}
