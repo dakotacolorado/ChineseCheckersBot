{
 "cells": [
  {
   "cell_type": "code",
   "id": "initial_id",
   "metadata": {
    "collapsed": true,
    "ExecuteTime": {
     "end_time": "2024-11-03T12:11:45.474852Z",
     "start_time": "2024-11-03T12:11:43.342385Z"
    }
   },
   "source": [
    "from src.chinese_checkers.experience import Experience, ExperienceGenerator, IRewardStrategy, RewardStrategyFactory\n",
    "from src.chinese_checkers.encoder import EncoderRegistry, EncoderMetadata\n",
    "from src.chinese_checkers.simulation import SimulationCatalog, SimulationMetadata, GameSimulation\n",
    "\n",
    "from tqdm import tqdm\n",
    "from typing import List\n"
   ],
   "outputs": [],
   "execution_count": 1
  },
  {
   "metadata": {},
   "cell_type": "markdown",
   "source": [
    "# Encoder Module Examples\n",
    "\n",
    "---\n",
    "\n",
    "## Example 1: Load simulation and encode them"
   ],
   "id": "a2080bf16c622096"
  },
  {
   "metadata": {
    "ExecuteTime": {
     "end_time": "2024-11-03T12:11:45.491949Z",
     "start_time": "2024-11-03T12:11:45.482856Z"
    }
   },
   "cell_type": "code",
   "source": [
    "catalog = SimulationCatalog()\n",
    "dataset_metadata: List[SimulationMetadata] = catalog.list_datasets()\n",
    "dataset_metadata"
   ],
   "id": "5184fbe8ec30f7fe",
   "outputs": [
    {
     "data": {
      "text/plain": [
       "[SimulationMetadata(player_count=2, board_size=4, max_game_length=1000, winning_player='0', name='bootstrap-simulation', version='v0.0.1'),\n",
       " SimulationMetadata(player_count=2, board_size=4, max_game_length=1000, winning_player='3', name='bootstrap-simulation', version='v0.0.1')]"
      ]
     },
     "execution_count": 2,
     "metadata": {},
     "output_type": "execute_result"
    }
   ],
   "execution_count": 2
  },
  {
   "metadata": {
    "ExecuteTime": {
     "end_time": "2024-11-03T12:11:48.481315Z",
     "start_time": "2024-11-03T12:11:45.627575Z"
    }
   },
   "cell_type": "code",
   "source": [
    "winning_players = [\"0\",\"3\"] \n",
    "player_count = 2\n",
    "board_size = 4\n",
    "\n",
    "simulations: List[GameSimulation] = [\n",
    "    dataset\n",
    "    for metadata in dataset_metadata\n",
    "    if metadata.winning_player in winning_players\n",
    "        and metadata.player_count == player_count\n",
    "        and metadata.board_size == board_size\n",
    "    for dataset in catalog.load_simulations_by_metadata(metadata)\n",
    "][:10]\n",
    "print(f\"Found {len(simulations)} datasets for winning_players: {winning_players} and player_count: {player_count}.\")"
   ],
   "id": "dc0fc472592324ef",
   "outputs": [
    {
     "name": "stdout",
     "output_type": "stream",
     "text": [
      "Found 1704 datasets for winning_players: ['0', '3'] and player_count: 2.\n"
     ]
    }
   ],
   "execution_count": 3
  },
  {
   "metadata": {
    "ExecuteTime": {
     "end_time": "2024-11-03T12:11:48.492148Z",
     "start_time": "2024-11-03T12:11:48.488722Z"
    }
   },
   "cell_type": "code",
   "source": [
    "# use the distance to win simulation strategy\n",
    "reward_strategy: IRewardStrategy = RewardStrategyFactory.create(\"distance_to_win\")\n",
    "experience_generator = ExperienceGenerator(reward_strategy)"
   ],
   "id": "be684db1f221373",
   "outputs": [],
   "execution_count": 4
  },
  {
   "metadata": {
    "ExecuteTime": {
     "end_time": "2024-11-03T12:12:00.630232Z",
     "start_time": "2024-11-03T12:11:48.580Z"
    }
   },
   "cell_type": "code",
   "source": [
    "# Create new experiences from the simulations \n",
    "experiences: List[Experience] = [\n",
    "    exper\n",
    "    for sim in tqdm(simulations, desc=\"Generating experiences from simulations\")\n",
    "    for exper in experience_generator.generate_experiences_from_simulation(sim)\n",
    "]\n",
    "\n",
    "# Print the number of experiences extracted\n",
    "print(f\"Total experiences extracted: {len(experiences)}\")\n",
    "\n",
    "# Display a few sample experiences\n",
    "for e in experiences[:4]:\n",
    "    print(e)"
   ],
   "id": "98ae2c49d355c1c9",
   "outputs": [
    {
     "name": "stderr",
     "output_type": "stream",
     "text": [
      "Generating experiences from simulations: 100%|██████████| 1704/1704 [00:11<00:00, 143.49it/s]\n"
     ]
    },
    {
     "name": "stdout",
     "output_type": "stream",
     "text": [
      "Total experiences extracted: 10\n",
      "Experience(state=<src.chinese_checkers.game.ChineseCheckersGame.ChineseCheckersGame object at 0x000002565645E930>, action=Move(-1, 0), Position(3, 2), reward=0.002881844380403458, next_state=<src.chinese_checkers.game.ChineseCheckersGame.ChineseCheckersGame object at 0x000002565645E900>, done=True)\n",
      "Experience(state=<src.chinese_checkers.game.ChineseCheckersGame.ChineseCheckersGame object at 0x000002565645E900>, action=Move(1, 0), Position(-3, -2), reward=-0.005763688760806916, next_state=<src.chinese_checkers.game.ChineseCheckersGame.ChineseCheckersGame object at 0x000002565645F920>, done=True)\n",
      "Experience(state=<src.chinese_checkers.game.ChineseCheckersGame.ChineseCheckersGame object at 0x000002565645F920>, action=Move(-2, -2), Position(3, 4), reward=0.008645533141210375, next_state=<src.chinese_checkers.game.ChineseCheckersGame.ChineseCheckersGame object at 0x000002565645F980>, done=True)\n",
      "Experience(state=<src.chinese_checkers.game.ChineseCheckersGame.ChineseCheckersGame object at 0x000002565645F980>, action=Move(2, 2), Position(-3, -4), reward=-0.011527377521613832, next_state=<src.chinese_checkers.game.ChineseCheckersGame.ChineseCheckersGame object at 0x000002565645F9E0>, done=True)\n"
     ]
    }
   ],
   "execution_count": 5
  },
  {
   "metadata": {
    "ExecuteTime": {
     "end_time": "2024-11-03T12:12:05.037696Z",
     "start_time": "2024-11-03T12:12:05.015962Z"
    }
   },
   "cell_type": "code",
   "source": [
    "\n",
    "# create an encoder\n",
    "encoder_metadata = EncoderMetadata(\n",
    "    encoder_name=\"experience-encoder-v0.0.1\",\n",
    "    board_size=board_size\n",
    ")\n",
    "encoder = EncoderRegistry.get_encoder(encoder_metadata)\n",
    "\n",
    "print(encoder.encode(experiences[5]))"
   ],
   "id": "468e8ca692a886a",
   "outputs": [
    {
     "ename": "RuntimeError",
     "evalue": "Tensors must have same number of dimensions: got 2 and 3",
     "output_type": "error",
     "traceback": [
      "\u001B[1;31m---------------------------------------------------------------------------\u001B[0m",
      "\u001B[1;31mRuntimeError\u001B[0m                              Traceback (most recent call last)",
      "Cell \u001B[1;32mIn[7], line 8\u001B[0m\n\u001B[0;32m      2\u001B[0m encoder_metadata \u001B[38;5;241m=\u001B[39m EncoderMetadata(\n\u001B[0;32m      3\u001B[0m     encoder_name\u001B[38;5;241m=\u001B[39m\u001B[38;5;124m\"\u001B[39m\u001B[38;5;124mexperience-encoder-v0.0.1\u001B[39m\u001B[38;5;124m\"\u001B[39m,\n\u001B[0;32m      4\u001B[0m     board_size\u001B[38;5;241m=\u001B[39mboard_size\n\u001B[0;32m      5\u001B[0m )\n\u001B[0;32m      6\u001B[0m encoder \u001B[38;5;241m=\u001B[39m EncoderRegistry\u001B[38;5;241m.\u001B[39mget_encoder(encoder_metadata)\n\u001B[1;32m----> 8\u001B[0m \u001B[38;5;28mprint\u001B[39m(\u001B[43mencoder\u001B[49m\u001B[38;5;241;43m.\u001B[39;49m\u001B[43mencode\u001B[49m\u001B[43m(\u001B[49m\u001B[43mexperiences\u001B[49m\u001B[43m[\u001B[49m\u001B[38;5;241;43m5\u001B[39;49m\u001B[43m]\u001B[49m\u001B[43m)\u001B[49m)\n",
      "File \u001B[1;32m~\\Documents\\Stanford\\CS223\\ChineseCheckersGameEngine\\ChineseCheckersGameEngine\\src\\chinese_checkers\\encoder\\implementations\\ExperienceEncoder.py:53\u001B[0m, in \u001B[0;36mExperienceEncoder.encode\u001B[1;34m(self, experience)\u001B[0m\n\u001B[0;32m     38\u001B[0m \u001B[38;5;250m\u001B[39m\u001B[38;5;124;03m\"\"\"\u001B[39;00m\n\u001B[0;32m     39\u001B[0m \u001B[38;5;124;03mEncodes an `Experience` instance into DQN-compatible format.\u001B[39;00m\n\u001B[0;32m     40\u001B[0m \n\u001B[1;32m   (...)\u001B[0m\n\u001B[0;32m     50\u001B[0m \u001B[38;5;124;03m        - Done flag (bool)\u001B[39;00m\n\u001B[0;32m     51\u001B[0m \u001B[38;5;124;03m\"\"\"\u001B[39;00m\n\u001B[0;32m     52\u001B[0m \u001B[38;5;66;03m# Encode the current and next game states as tensors\u001B[39;00m\n\u001B[1;32m---> 53\u001B[0m encoded_state \u001B[38;5;241m=\u001B[39m \u001B[38;5;28;43mself\u001B[39;49m\u001B[38;5;241;43m.\u001B[39;49m\u001B[43mgame_encoder\u001B[49m\u001B[38;5;241;43m.\u001B[39;49m\u001B[43mencode\u001B[49m\u001B[43m(\u001B[49m\u001B[43mexperience\u001B[49m\u001B[38;5;241;43m.\u001B[39;49m\u001B[43mstate\u001B[49m\u001B[43m)\u001B[49m\n\u001B[0;32m     54\u001B[0m encoded_next_state \u001B[38;5;241m=\u001B[39m \u001B[38;5;28mself\u001B[39m\u001B[38;5;241m.\u001B[39mgame_encoder\u001B[38;5;241m.\u001B[39mencode(experience\u001B[38;5;241m.\u001B[39mnext_state)\n\u001B[0;32m     56\u001B[0m \u001B[38;5;66;03m# Encode the action as a tensor\u001B[39;00m\n",
      "File \u001B[1;32m~\\Documents\\Stanford\\CS223\\ChineseCheckersGameEngine\\ChineseCheckersGameEngine\\src\\chinese_checkers\\encoder\\implementations\\BaseChineseCheckersGameEncoder.py:127\u001B[0m, in \u001B[0;36mBaseChineseCheckersGameEncoder.encode\u001B[1;34m(self, game)\u001B[0m\n\u001B[0;32m    124\u001B[0m moves_encoding \u001B[38;5;241m=\u001B[39m \u001B[38;5;28mself\u001B[39m\u001B[38;5;241m.\u001B[39m_encode_moves(game)\n\u001B[0;32m    125\u001B[0m positions_encoding \u001B[38;5;241m=\u001B[39m \u001B[38;5;28mself\u001B[39m\u001B[38;5;241m.\u001B[39mencode_positions(game)\n\u001B[1;32m--> 127\u001B[0m \u001B[38;5;28;01mreturn\u001B[39;00m \u001B[43mtorch\u001B[49m\u001B[38;5;241;43m.\u001B[39;49m\u001B[43mcat\u001B[49m\u001B[43m(\u001B[49m\u001B[43m[\u001B[49m\n\u001B[0;32m    128\u001B[0m \u001B[43m    \u001B[49m\u001B[43mplayer_id_encoding\u001B[49m\u001B[38;5;241;43m.\u001B[39;49m\u001B[43mview\u001B[49m\u001B[43m(\u001B[49m\u001B[38;5;241;43m1\u001B[39;49m\u001B[43m,\u001B[49m\u001B[43m \u001B[49m\u001B[38;5;241;43m-\u001B[39;49m\u001B[38;5;241;43m1\u001B[39;49m\u001B[43m)\u001B[49m\u001B[43m,\u001B[49m\u001B[43m  \u001B[49m\u001B[38;5;66;43;03m# Reshape to maintain structure\u001B[39;49;00m\n\u001B[0;32m    129\u001B[0m \u001B[43m    \u001B[49m\u001B[43mmoves_encoding\u001B[49m\u001B[38;5;241;43m.\u001B[39;49m\u001B[43mview\u001B[49m\u001B[43m(\u001B[49m\u001B[38;5;241;43m1\u001B[39;49m\u001B[43m,\u001B[49m\u001B[43m \u001B[49m\u001B[38;5;241;43m*\u001B[39;49m\u001B[38;5;28;43mself\u001B[39;49m\u001B[38;5;241;43m.\u001B[39;49m\u001B[43mmove_encoding_shape\u001B[49m\u001B[43m)\u001B[49m\u001B[43m,\u001B[49m\n\u001B[0;32m    130\u001B[0m \u001B[43m    \u001B[49m\u001B[43mpositions_encoding\u001B[49m\u001B[38;5;241;43m.\u001B[39;49m\u001B[43mview\u001B[49m\u001B[43m(\u001B[49m\u001B[38;5;241;43m1\u001B[39;49m\u001B[43m,\u001B[49m\u001B[43m \u001B[49m\u001B[38;5;241;43m*\u001B[39;49m\u001B[38;5;28;43mself\u001B[39;49m\u001B[38;5;241;43m.\u001B[39;49m\u001B[43mpositions_shape\u001B[49m\u001B[43m)\u001B[49m\n\u001B[0;32m    131\u001B[0m \u001B[43m\u001B[49m\u001B[43m]\u001B[49m\u001B[43m,\u001B[49m\u001B[43m \u001B[49m\u001B[43mdim\u001B[49m\u001B[38;5;241;43m=\u001B[39;49m\u001B[38;5;241;43m0\u001B[39;49m\u001B[43m)\u001B[49m\n",
      "\u001B[1;31mRuntimeError\u001B[0m: Tensors must have same number of dimensions: got 2 and 3"
     ]
    }
   ],
   "execution_count": 7
  },
  {
   "metadata": {
    "ExecuteTime": {
     "end_time": "2024-11-03T02:25:37.889837Z",
     "start_time": "2024-11-03T02:25:37.887824Z"
    }
   },
   "cell_type": "code",
   "source": "",
   "id": "6121716cb15ee79b",
   "outputs": [],
   "execution_count": null
  },
  {
   "metadata": {},
   "cell_type": "code",
   "outputs": [],
   "execution_count": null,
   "source": [
    "from tqdm import tqdm\n",
    "import numpy as np\n",
    "\n",
    "# Load catalog and metadata\n",
    "catalog = SimulationCatalog(\"D:/chinese_checkers_games\")\n",
    "metadata_list = catalog.list_available_metadata()\n",
    "\n",
    "# Check if metadata is available\n",
    "if not metadata_list:\n",
    "    print(\"No metadata found in the catalog.\")\n",
    "else:\n",
    "    metadata = metadata_list[0]  # Select the first metadata entry or choose as needed\n",
    "\n",
    "    # Load encoded experiences from the catalog\n",
    "    loaded_experiences = catalog.load_experiences_by_metadata(metadata)\n",
    "\n",
    "    print(f\"Loaded {len(loaded_experiences)} experiences from the catalog.\")\n",
    "\n",
    "    # Process loaded experiences if needed\n",
    "    for exp in tqdm(loaded_experiences, desc=\"Processing loaded experiences\", unit=\"experience\"):\n",
    "        state, action, reward, next_state, done = exp\n",
    "        # Example: print out the experience components\n",
    "        print(\"State:\", state)\n",
    "        print(\"Action:\", action)\n",
    "        print(\"Reward:\", reward)\n",
    "        print(\"Next State:\", next_state)\n",
    "        print(\"Done:\", done)\n",
    "\n",
    "    # Optionally, you can decode or use the loaded experiences with your encoder or model.\n"
   ],
   "id": "613c34f46847444a"
  }
 ],
 "metadata": {
  "kernelspec": {
   "display_name": "Python 3",
   "language": "python",
   "name": "python3"
  },
  "language_info": {
   "codemirror_mode": {
    "name": "ipython",
    "version": 2
   },
   "file_extension": ".py",
   "mimetype": "text/x-python",
   "name": "python",
   "nbconvert_exporter": "python",
   "pygments_lexer": "ipython2",
   "version": "2.7.6"
  }
 },
 "nbformat": 4,
 "nbformat_minor": 5
}
