{
 "cells": [
  {
   "cell_type": "code",
   "execution_count": 1,
   "id": "722c9f20eaad45a5",
   "metadata": {
    "ExecuteTime": {
     "end_time": "2024-11-30T00:05:06.164307Z",
     "start_time": "2024-11-30T00:05:02.397406Z"
    }
   },
   "outputs": [
    {
     "name": "stdout",
     "output_type": "stream",
     "text": [
      "Model loaded from training_simulation-v1.0.3-best.pt\n"
     ]
    }
   ],
   "source": [
    "from chinese_checkers.model import BootstrapModel, DeepQModel\n",
    "from chinese_checkers.simulation import S3SimulationCatalog\n",
    "from chinese_checkers.reinforcement.TrainingAgent import TrainingAgent\n",
    "\n",
    "board_size = 2\n",
    "model_to_train = DeepQModel.load(\"training_simulation-v1.0.3-best.pt\")\n",
    "opponent = BootstrapModel()\n",
    "catalog = S3SimulationCatalog(batch_size=1000)\n",
    "training_agent = TrainingAgent(\n",
    "    model_to_train, \n",
    "    opponent, \n",
    "    catalog,\n",
    "    board_size=board_size,\n",
    "    max_turns=500,\n",
    "    name=\"training_simulation\", \n",
    "    version=\"v1.0.4\"\n",
    ")"
   ]
  },
  {
   "cell_type": "code",
   "execution_count": 2,
   "id": "121a5289cbcccf7e",
   "metadata": {},
   "outputs": [
    {
     "name": "stdout",
     "output_type": "stream",
     "text": [
      "Training started with the following parameters:\n",
      "- Training period: 500\n",
      "- Total training size: 100000\n",
      "- Training batch size: 5000\n",
      "Loading simulations for training_simulation, version v1.0.4...\n",
      "Loaded 23181 simulations for winning_player=0.\n",
      "Loaded 15019 simulations for winning_player=3.\n",
      "Loaded 521 simulations for winning_player=None.\n",
      "Loaded 38721 simulations for training.\n",
      "Simulating 500 games...\n"
     ]
    },
    {
     "name": "stderr",
     "output_type": "stream",
     "text": [
      "Simulating games: 100%|██████████████████| 500/500 [02:02<00:00,  4.10game/s]\n"
     ]
    },
    {
     "name": "stdout",
     "output_type": "stream",
     "text": [
      "Winnings: 0=456, 3=44, None=0\n",
      "Player 0 win rate: 91.20%\n",
      "Training model with 5000 random simulations from 39221 total.\n",
      "Loaded 5000 random simulations for training.\n",
      "Precomputing 5000 simulation encodings in parallel across 6 workers...\n"
     ]
    },
    {
     "ename": "KeyboardInterrupt",
     "evalue": "",
     "output_type": "error",
     "traceback": [
      "\u001B[1;31m---------------------------------------------------------------------------\u001B[0m",
      "\u001B[1;31mKeyboardInterrupt\u001B[0m                         Traceback (most recent call last)",
      "File \u001B[1;32m~\\Documents\\Stanford\\CS223\\ChineseCheckersGameEngine\\ChineseCheckersGameEngine\\src\\chinese_checkers\\model\\DeepQModel.py:69\u001B[0m, in \u001B[0;36mSimulationDataset._compute_encoded_data_parallel\u001B[1;34m(self, simulations, num_workers)\u001B[0m\n\u001B[0;32m     68\u001B[0m \u001B[38;5;28;01mwith\u001B[39;00m ProcessPoolExecutor(max_workers\u001B[38;5;241m=\u001B[39mnum_workers) \u001B[38;5;28;01mas\u001B[39;00m executor:\n\u001B[1;32m---> 69\u001B[0m     encoded_data \u001B[38;5;241m=\u001B[39m \u001B[38;5;28;43mlist\u001B[39;49m\u001B[43m(\u001B[49m\u001B[43mexecutor\u001B[49m\u001B[38;5;241;43m.\u001B[39;49m\u001B[43mmap\u001B[49m\u001B[43m(\u001B[49m\u001B[43mprocess_simulation\u001B[49m\u001B[43m,\u001B[49m\u001B[43m \u001B[49m\u001B[43margs\u001B[49m\u001B[43m)\u001B[49m\u001B[43m)\u001B[49m\n\u001B[0;32m     70\u001B[0m \u001B[38;5;28;01mreturn\u001B[39;00m encoded_data\n",
      "File \u001B[1;32mC:\\Python312\\Lib\\concurrent\\futures\\process.py:642\u001B[0m, in \u001B[0;36m_chain_from_iterable_of_lists\u001B[1;34m(iterable)\u001B[0m\n\u001B[0;32m    637\u001B[0m \u001B[38;5;250m\u001B[39m\u001B[38;5;124;03m\"\"\"\u001B[39;00m\n\u001B[0;32m    638\u001B[0m \u001B[38;5;124;03mSpecialized implementation of itertools.chain.from_iterable.\u001B[39;00m\n\u001B[0;32m    639\u001B[0m \u001B[38;5;124;03mEach item in *iterable* should be a list.  This function is\u001B[39;00m\n\u001B[0;32m    640\u001B[0m \u001B[38;5;124;03mcareful not to keep references to yielded objects.\u001B[39;00m\n\u001B[0;32m    641\u001B[0m \u001B[38;5;124;03m\"\"\"\u001B[39;00m\n\u001B[1;32m--> 642\u001B[0m \u001B[43m\u001B[49m\u001B[38;5;28;43;01mfor\u001B[39;49;00m\u001B[43m \u001B[49m\u001B[43melement\u001B[49m\u001B[43m \u001B[49m\u001B[38;5;129;43;01min\u001B[39;49;00m\u001B[43m \u001B[49m\u001B[43miterable\u001B[49m\u001B[43m:\u001B[49m\n\u001B[0;32m    643\u001B[0m \u001B[43m    \u001B[49m\u001B[43melement\u001B[49m\u001B[38;5;241;43m.\u001B[39;49m\u001B[43mreverse\u001B[49m\u001B[43m(\u001B[49m\u001B[43m)\u001B[49m\n",
      "File \u001B[1;32mC:\\Python312\\Lib\\concurrent\\futures\\_base.py:619\u001B[0m, in \u001B[0;36mExecutor.map.<locals>.result_iterator\u001B[1;34m()\u001B[0m\n\u001B[0;32m    618\u001B[0m \u001B[38;5;28;01mif\u001B[39;00m timeout \u001B[38;5;129;01mis\u001B[39;00m \u001B[38;5;28;01mNone\u001B[39;00m:\n\u001B[1;32m--> 619\u001B[0m     \u001B[38;5;28;01myield\u001B[39;00m \u001B[43m_result_or_cancel\u001B[49m\u001B[43m(\u001B[49m\u001B[43mfs\u001B[49m\u001B[38;5;241;43m.\u001B[39;49m\u001B[43mpop\u001B[49m\u001B[43m(\u001B[49m\u001B[43m)\u001B[49m\u001B[43m)\u001B[49m\n\u001B[0;32m    620\u001B[0m \u001B[38;5;28;01melse\u001B[39;00m:\n",
      "File \u001B[1;32mC:\\Python312\\Lib\\concurrent\\futures\\_base.py:317\u001B[0m, in \u001B[0;36m_result_or_cancel\u001B[1;34m(***failed resolving arguments***)\u001B[0m\n\u001B[0;32m    316\u001B[0m \u001B[38;5;28;01mtry\u001B[39;00m:\n\u001B[1;32m--> 317\u001B[0m     \u001B[38;5;28;01mreturn\u001B[39;00m \u001B[43mfut\u001B[49m\u001B[38;5;241;43m.\u001B[39;49m\u001B[43mresult\u001B[49m\u001B[43m(\u001B[49m\u001B[43mtimeout\u001B[49m\u001B[43m)\u001B[49m\n\u001B[0;32m    318\u001B[0m \u001B[38;5;28;01mfinally\u001B[39;00m:\n",
      "File \u001B[1;32mC:\\Python312\\Lib\\concurrent\\futures\\_base.py:451\u001B[0m, in \u001B[0;36mFuture.result\u001B[1;34m(self, timeout)\u001B[0m\n\u001B[0;32m    449\u001B[0m     \u001B[38;5;28;01mreturn\u001B[39;00m \u001B[38;5;28mself\u001B[39m\u001B[38;5;241m.\u001B[39m__get_result()\n\u001B[1;32m--> 451\u001B[0m \u001B[38;5;28;43mself\u001B[39;49m\u001B[38;5;241;43m.\u001B[39;49m\u001B[43m_condition\u001B[49m\u001B[38;5;241;43m.\u001B[39;49m\u001B[43mwait\u001B[49m\u001B[43m(\u001B[49m\u001B[43mtimeout\u001B[49m\u001B[43m)\u001B[49m\n\u001B[0;32m    453\u001B[0m \u001B[38;5;28;01mif\u001B[39;00m \u001B[38;5;28mself\u001B[39m\u001B[38;5;241m.\u001B[39m_state \u001B[38;5;129;01min\u001B[39;00m [CANCELLED, CANCELLED_AND_NOTIFIED]:\n",
      "File \u001B[1;32mC:\\Python312\\Lib\\threading.py:355\u001B[0m, in \u001B[0;36mCondition.wait\u001B[1;34m(self, timeout)\u001B[0m\n\u001B[0;32m    354\u001B[0m \u001B[38;5;28;01mif\u001B[39;00m timeout \u001B[38;5;129;01mis\u001B[39;00m \u001B[38;5;28;01mNone\u001B[39;00m:\n\u001B[1;32m--> 355\u001B[0m     \u001B[43mwaiter\u001B[49m\u001B[38;5;241;43m.\u001B[39;49m\u001B[43macquire\u001B[49m\u001B[43m(\u001B[49m\u001B[43m)\u001B[49m\n\u001B[0;32m    356\u001B[0m     gotit \u001B[38;5;241m=\u001B[39m \u001B[38;5;28;01mTrue\u001B[39;00m\n",
      "\u001B[1;31mKeyboardInterrupt\u001B[0m: ",
      "\nDuring handling of the above exception, another exception occurred:\n",
      "\u001B[1;31mKeyboardInterrupt\u001B[0m                         Traceback (most recent call last)",
      "Cell \u001B[1;32mIn[2], line 1\u001B[0m\n\u001B[1;32m----> 1\u001B[0m \u001B[43mtraining_agent\u001B[49m\u001B[38;5;241;43m.\u001B[39;49m\u001B[43mtrain\u001B[49m\u001B[43m(\u001B[49m\n\u001B[0;32m      2\u001B[0m \u001B[43m    \u001B[49m\u001B[43mtraining_period\u001B[49m\u001B[43m \u001B[49m\u001B[38;5;241;43m=\u001B[39;49m\u001B[43m \u001B[49m\u001B[38;5;241;43m500\u001B[39;49m\u001B[43m,\u001B[49m\u001B[43m \u001B[49m\n\u001B[0;32m      3\u001B[0m \u001B[43m    \u001B[49m\u001B[43mtraining_size\u001B[49m\u001B[43m \u001B[49m\u001B[38;5;241;43m=\u001B[39;49m\u001B[43m \u001B[49m\u001B[38;5;241;43m100000\u001B[39;49m\u001B[43m,\u001B[49m\u001B[43m \u001B[49m\n\u001B[0;32m      4\u001B[0m \u001B[43m    \u001B[49m\u001B[43mtraining_batch_size\u001B[49m\u001B[43m \u001B[49m\u001B[38;5;241;43m=\u001B[39;49m\u001B[43m \u001B[49m\u001B[38;5;241;43m5000\u001B[39;49m\u001B[43m,\u001B[49m\u001B[43m \u001B[49m\n\u001B[0;32m      5\u001B[0m \u001B[43m    \u001B[49m\u001B[43mvalidation_size\u001B[49m\u001B[38;5;241;43m=\u001B[39;49m\u001B[38;5;241;43m100\u001B[39;49m\n\u001B[0;32m      6\u001B[0m \u001B[43m)\u001B[49m\n",
      "File \u001B[1;32m~\\Documents\\Stanford\\CS223\\ChineseCheckersGameEngine\\ChineseCheckersGameEngine\\src\\chinese_checkers\\training\\TrainingAgent.py:189\u001B[0m, in \u001B[0;36mTrainingAgent.train\u001B[1;34m(self, training_period, training_size, training_batch_size, validation_size)\u001B[0m\n\u001B[0;32m    186\u001B[0m \u001B[38;5;28mprint\u001B[39m(\u001B[38;5;124mf\u001B[39m\u001B[38;5;124m\"\u001B[39m\u001B[38;5;124mLoaded \u001B[39m\u001B[38;5;132;01m{\u001B[39;00m\u001B[38;5;28mlen\u001B[39m(random_simulations)\u001B[38;5;132;01m}\u001B[39;00m\u001B[38;5;124m random simulations for training.\u001B[39m\u001B[38;5;124m\"\u001B[39m)\n\u001B[0;32m    188\u001B[0m train_start_time \u001B[38;5;241m=\u001B[39m time\u001B[38;5;241m.\u001B[39mtime()\n\u001B[1;32m--> 189\u001B[0m \u001B[38;5;28;43mself\u001B[39;49m\u001B[38;5;241;43m.\u001B[39;49m\u001B[43mmodel_to_train\u001B[49m\u001B[38;5;241;43m.\u001B[39;49m\u001B[43mtrain\u001B[49m\u001B[43m(\u001B[49m\u001B[43mrandom_simulations\u001B[49m\u001B[43m,\u001B[49m\u001B[43m \u001B[49m\u001B[43mbatch_size\u001B[49m\u001B[38;5;241;43m=\u001B[39;49m\u001B[38;5;241;43m2048\u001B[39;49m\u001B[43m)\u001B[49m\n\u001B[0;32m    190\u001B[0m train_duration \u001B[38;5;241m=\u001B[39m time\u001B[38;5;241m.\u001B[39mtime() \u001B[38;5;241m-\u001B[39m train_start_time\n\u001B[0;32m    191\u001B[0m \u001B[38;5;28mprint\u001B[39m(\u001B[38;5;124mf\u001B[39m\u001B[38;5;124m\"\u001B[39m\u001B[38;5;124mTraining completed in \u001B[39m\u001B[38;5;132;01m{\u001B[39;00mtrain_duration\u001B[38;5;132;01m:\u001B[39;00m\u001B[38;5;124m.2f\u001B[39m\u001B[38;5;132;01m}\u001B[39;00m\u001B[38;5;124m seconds.\u001B[39m\u001B[38;5;124m\"\u001B[39m)\n",
      "File \u001B[1;32m~\\Documents\\Stanford\\CS223\\ChineseCheckersGameEngine\\ChineseCheckersGameEngine\\src\\chinese_checkers\\model\\DeepQModel.py:223\u001B[0m, in \u001B[0;36mDeepQModel.train\u001B[1;34m(self, simulations, batch_size, num_workers)\u001B[0m\n\u001B[0;32m    222\u001B[0m \u001B[38;5;28;01mdef\u001B[39;00m \u001B[38;5;21mtrain\u001B[39m(\u001B[38;5;28mself\u001B[39m, simulations: List[GameSimulation], batch_size: \u001B[38;5;28mint\u001B[39m \u001B[38;5;241m=\u001B[39m \u001B[38;5;241m64\u001B[39m, num_workers: \u001B[38;5;28mint\u001B[39m \u001B[38;5;241m=\u001B[39m \u001B[38;5;28;01mNone\u001B[39;00m):\n\u001B[1;32m--> 223\u001B[0m     dataset \u001B[38;5;241m=\u001B[39m \u001B[43mSimulationDataset\u001B[49m\u001B[43m(\u001B[49m\u001B[43msimulations\u001B[49m\u001B[43m,\u001B[49m\u001B[43m \u001B[49m\u001B[38;5;28;43mself\u001B[39;49m\u001B[38;5;241;43m.\u001B[39;49m\u001B[43mboard_dim\u001B[49m\u001B[43m,\u001B[49m\u001B[43m \u001B[49m\u001B[43mplayer_id\u001B[49m\u001B[38;5;241;43m=\u001B[39;49m\u001B[38;5;28;43mself\u001B[39;49m\u001B[38;5;241;43m.\u001B[39;49m\u001B[43mplayer_id\u001B[49m\u001B[43m,\u001B[49m\u001B[43m \u001B[49m\u001B[43mnum_workers\u001B[49m\u001B[38;5;241;43m=\u001B[39;49m\u001B[43mnum_workers\u001B[49m\u001B[43m)\u001B[49m\n\u001B[0;32m    225\u001B[0m     \u001B[38;5;66;03m# Initialize accumulators for batching\u001B[39;00m\n\u001B[0;32m    226\u001B[0m     state_batch \u001B[38;5;241m=\u001B[39m []\n",
      "File \u001B[1;32m~\\Documents\\Stanford\\CS223\\ChineseCheckersGameEngine\\ChineseCheckersGameEngine\\src\\chinese_checkers\\model\\DeepQModel.py:54\u001B[0m, in \u001B[0;36mSimulationDataset.__init__\u001B[1;34m(self, simulations, board_dim, player_id, num_workers)\u001B[0m\n\u001B[0;32m     51\u001B[0m     num_workers \u001B[38;5;241m=\u001B[39m \u001B[38;5;28mmin\u001B[39m(\u001B[38;5;28mint\u001B[39m(cpu_count() \u001B[38;5;241m/\u001B[39m \u001B[38;5;241m4\u001B[39m), \u001B[38;5;28mlen\u001B[39m(simulations))\n\u001B[0;32m     53\u001B[0m \u001B[38;5;66;03m# Precompute all encodings in parallel\u001B[39;00m\n\u001B[1;32m---> 54\u001B[0m \u001B[38;5;28mself\u001B[39m\u001B[38;5;241m.\u001B[39mencoded_data \u001B[38;5;241m=\u001B[39m \u001B[38;5;28;43mself\u001B[39;49m\u001B[38;5;241;43m.\u001B[39;49m\u001B[43m_compute_encoded_data_parallel\u001B[49m\u001B[43m(\u001B[49m\u001B[43msimulations\u001B[49m\u001B[43m,\u001B[49m\u001B[43m \u001B[49m\u001B[43mnum_workers\u001B[49m\u001B[43m)\u001B[49m\n\u001B[0;32m     56\u001B[0m \u001B[38;5;66;03m# Flatten experiences and store them\u001B[39;00m\n\u001B[0;32m     57\u001B[0m \u001B[38;5;28mself\u001B[39m\u001B[38;5;241m.\u001B[39mexperiences \u001B[38;5;241m=\u001B[39m []\n",
      "File \u001B[1;32m~\\Documents\\Stanford\\CS223\\ChineseCheckersGameEngine\\ChineseCheckersGameEngine\\src\\chinese_checkers\\model\\DeepQModel.py:68\u001B[0m, in \u001B[0;36mSimulationDataset._compute_encoded_data_parallel\u001B[1;34m(self, simulations, num_workers)\u001B[0m\n\u001B[0;32m     66\u001B[0m \u001B[38;5;28mprint\u001B[39m(\u001B[38;5;124mf\u001B[39m\u001B[38;5;124m\"\u001B[39m\u001B[38;5;124mPrecomputing \u001B[39m\u001B[38;5;132;01m{\u001B[39;00m\u001B[38;5;28mlen\u001B[39m(simulations)\u001B[38;5;132;01m}\u001B[39;00m\u001B[38;5;124m simulation encodings in parallel across \u001B[39m\u001B[38;5;132;01m{\u001B[39;00mnum_workers\u001B[38;5;132;01m}\u001B[39;00m\u001B[38;5;124m workers...\u001B[39m\u001B[38;5;124m\"\u001B[39m)\n\u001B[0;32m     67\u001B[0m args \u001B[38;5;241m=\u001B[39m [(sim, \u001B[38;5;28mself\u001B[39m\u001B[38;5;241m.\u001B[39mboard_dim, \u001B[38;5;28mself\u001B[39m\u001B[38;5;241m.\u001B[39mplayer_id) \u001B[38;5;28;01mfor\u001B[39;00m sim \u001B[38;5;129;01min\u001B[39;00m simulations]\n\u001B[1;32m---> 68\u001B[0m \u001B[38;5;28;01mwith\u001B[39;00m ProcessPoolExecutor(max_workers\u001B[38;5;241m=\u001B[39mnum_workers) \u001B[38;5;28;01mas\u001B[39;00m executor:\n\u001B[0;32m     69\u001B[0m     encoded_data \u001B[38;5;241m=\u001B[39m \u001B[38;5;28mlist\u001B[39m(executor\u001B[38;5;241m.\u001B[39mmap(process_simulation, args))\n\u001B[0;32m     70\u001B[0m \u001B[38;5;28;01mreturn\u001B[39;00m encoded_data\n",
      "File \u001B[1;32mC:\\Python312\\Lib\\concurrent\\futures\\_base.py:646\u001B[0m, in \u001B[0;36mExecutor.__exit__\u001B[1;34m(self, exc_type, exc_val, exc_tb)\u001B[0m\n\u001B[0;32m    643\u001B[0m \u001B[38;5;28;01mdef\u001B[39;00m \u001B[38;5;21m__enter__\u001B[39m(\u001B[38;5;28mself\u001B[39m):\n\u001B[0;32m    644\u001B[0m     \u001B[38;5;28;01mreturn\u001B[39;00m \u001B[38;5;28mself\u001B[39m\n\u001B[1;32m--> 646\u001B[0m \u001B[38;5;28;01mdef\u001B[39;00m \u001B[38;5;21m__exit__\u001B[39m(\u001B[38;5;28mself\u001B[39m, exc_type, exc_val, exc_tb):\n\u001B[0;32m    647\u001B[0m     \u001B[38;5;28mself\u001B[39m\u001B[38;5;241m.\u001B[39mshutdown(wait\u001B[38;5;241m=\u001B[39m\u001B[38;5;28;01mTrue\u001B[39;00m)\n\u001B[0;32m    648\u001B[0m     \u001B[38;5;28;01mreturn\u001B[39;00m \u001B[38;5;28;01mFalse\u001B[39;00m\n",
      "\u001B[1;31mKeyboardInterrupt\u001B[0m: "
     ]
    }
   ],
   "source": [
    "training_agent.train(\n",
    "    training_period = 500, \n",
    "    training_size = 100000, \n",
    "    training_batch_size = 5000, \n",
    "    validation_size=100\n",
    ")"
   ]
  },
  {
   "cell_type": "code",
   "execution_count": null,
   "id": "a6192e39-63ee-4e10-8bd1-ac4c33c9a36c",
   "metadata": {},
   "outputs": [],
   "source": []
  }
 ],
 "metadata": {
  "kernelspec": {
   "display_name": "Python 3 (ipykernel)",
   "language": "python",
   "name": "python3"
  },
  "language_info": {
   "codemirror_mode": {
    "name": "ipython",
    "version": 3
   },
   "file_extension": ".py",
   "mimetype": "text/x-python",
   "name": "python",
   "nbconvert_exporter": "python",
   "pygments_lexer": "ipython3",
   "version": "3.12.6"
  }
 },
 "nbformat": 4,
 "nbformat_minor": 5
}
